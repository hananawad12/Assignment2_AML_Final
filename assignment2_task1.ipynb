{
  "nbformat": 4,
  "nbformat_minor": 0,
  "metadata": {
    "colab": {
      "name": "assignment2_task1.ipynb",
      "provenance": []
    },
    "kernelspec": {
      "name": "python3",
      "display_name": "Python 3"
    },
    "language_info": {
      "name": "python"
    },
    "accelerator": "GPU"
  },
  "cells": [
    {
      "cell_type": "code",
      "execution_count": null,
      "metadata": {
        "id": "XLxetxMp-w5l"
      },
      "outputs": [],
      "source": [
        "import numpy as np\n",
        "import pandas as pd\n",
        "import seaborn as sns\n",
        "from sklearn.preprocessing import OrdinalEncoder\n",
        "from sklearn.preprocessing import StandardScaler\n",
        "from sklearn.model_selection import train_test_split\n",
        "import matplotlib.pyplot as plt\n",
        "import gc\n",
        "%matplotlib inline\n",
        "\n"
      ]
    },
    {
      "cell_type": "code",
      "source": [
        "from google.colab import drive \n",
        "drive.mount('/content/drive')"
      ],
      "metadata": {
        "colab": {
          "base_uri": "https://localhost:8080/"
        },
        "id": "j5VMLZqD_RrK",
        "outputId": "f1231ce3-8355-4467-c87f-981bae5a5841"
      },
      "execution_count": null,
      "outputs": [
        {
          "output_type": "stream",
          "name": "stdout",
          "text": [
            "Drive already mounted at /content/drive; to attempt to forcibly remount, call drive.mount(\"/content/drive\", force_remount=True).\n"
          ]
        }
      ]
    },
    {
      "cell_type": "markdown",
      "source": [
        "#Data"
      ],
      "metadata": {
        "id": "h5jJZ4OfdflB"
      }
    },
    {
      "cell_type": "code",
      "source": [
        "data_transaction =pd.read_csv('/content/drive/My Drive/data_transaction.csv')"
      ],
      "metadata": {
        "id": "9wN1LdCLCeoG"
      },
      "execution_count": null,
      "outputs": []
    },
    {
      "cell_type": "markdown",
      "source": [
        ""
      ],
      "metadata": {
        "id": "O0ku__xzdhaJ"
      }
    },
    {
      "cell_type": "code",
      "source": [
        "data_identity =pd.read_csv('/content/drive/My Drive/data_identity.csv')"
      ],
      "metadata": {
        "id": "fUtP8ZrwE9po"
      },
      "execution_count": null,
      "outputs": []
    },
    {
      "cell_type": "code",
      "source": [
        "data_identity.shape"
      ],
      "metadata": {
        "colab": {
          "base_uri": "https://localhost:8080/"
        },
        "id": "XJ5Dre7G4L52",
        "outputId": "edfa5de8-a55b-428e-f59d-15e8e328500b"
      },
      "execution_count": null,
      "outputs": [
        {
          "output_type": "execute_result",
          "data": {
            "text/plain": [
              "(144233, 41)"
            ]
          },
          "metadata": {},
          "execution_count": 5
        }
      ]
    },
    {
      "cell_type": "code",
      "source": [
        "data_transaction.shape"
      ],
      "metadata": {
        "colab": {
          "base_uri": "https://localhost:8080/"
        },
        "id": "7bJRsPlz4OJ6",
        "outputId": "cc517edb-0d3d-4c5e-f3ad-3fc7820dff95"
      },
      "execution_count": null,
      "outputs": [
        {
          "output_type": "execute_result",
          "data": {
            "text/plain": [
              "(590540, 394)"
            ]
          },
          "metadata": {},
          "execution_count": 6
        }
      ]
    },
    {
      "cell_type": "code",
      "source": [
        "data_identity.head()"
      ],
      "metadata": {
        "id": "jk0f79wGCw08",
        "colab": {
          "base_uri": "https://localhost:8080/",
          "height": 236
        },
        "outputId": "bf99072e-4a98-4f4b-f629-e4a1c9fb1821"
      },
      "execution_count": null,
      "outputs": [
        {
          "output_type": "execute_result",
          "data": {
            "text/plain": [
              "   TransactionID  id_01     id_02  id_03  id_04  id_05  id_06  id_07  id_08  \\\n",
              "0        2987004    0.0   70787.0    NaN    NaN    NaN    NaN    NaN    NaN   \n",
              "1        2987008   -5.0   98945.0    NaN    NaN    0.0   -5.0    NaN    NaN   \n",
              "2        2987010   -5.0  191631.0    0.0    0.0    0.0    0.0    NaN    NaN   \n",
              "3        2987011   -5.0  221832.0    NaN    NaN    0.0   -6.0    NaN    NaN   \n",
              "4        2987016    0.0    7460.0    0.0    0.0    1.0    0.0    NaN    NaN   \n",
              "\n",
              "   id_09  ...                id_31  id_32      id_33           id_34  id_35  \\\n",
              "0    NaN  ...  samsung browser 6.2   32.0  2220x1080  match_status:2      T   \n",
              "1    NaN  ...   mobile safari 11.0   32.0   1334x750  match_status:1      T   \n",
              "2    0.0  ...          chrome 62.0    NaN        NaN             NaN      F   \n",
              "3    NaN  ...          chrome 62.0    NaN        NaN             NaN      F   \n",
              "4    0.0  ...          chrome 62.0   24.0   1280x800  match_status:2      T   \n",
              "\n",
              "  id_36 id_37  id_38  DeviceType                     DeviceInfo  \n",
              "0     F     T      T      mobile  SAMSUNG SM-G892A Build/NRD90M  \n",
              "1     F     F      T      mobile                     iOS Device  \n",
              "2     F     T      T     desktop                        Windows  \n",
              "3     F     T      T     desktop                            NaN  \n",
              "4     F     T      T     desktop                          MacOS  \n",
              "\n",
              "[5 rows x 41 columns]"
            ],
            "text/html": [
              "\n",
              "  <div id=\"df-7aa59784-e8b9-4636-b1a2-956b6bb473b1\">\n",
              "    <div class=\"colab-df-container\">\n",
              "      <div>\n",
              "<style scoped>\n",
              "    .dataframe tbody tr th:only-of-type {\n",
              "        vertical-align: middle;\n",
              "    }\n",
              "\n",
              "    .dataframe tbody tr th {\n",
              "        vertical-align: top;\n",
              "    }\n",
              "\n",
              "    .dataframe thead th {\n",
              "        text-align: right;\n",
              "    }\n",
              "</style>\n",
              "<table border=\"1\" class=\"dataframe\">\n",
              "  <thead>\n",
              "    <tr style=\"text-align: right;\">\n",
              "      <th></th>\n",
              "      <th>TransactionID</th>\n",
              "      <th>id_01</th>\n",
              "      <th>id_02</th>\n",
              "      <th>id_03</th>\n",
              "      <th>id_04</th>\n",
              "      <th>id_05</th>\n",
              "      <th>id_06</th>\n",
              "      <th>id_07</th>\n",
              "      <th>id_08</th>\n",
              "      <th>id_09</th>\n",
              "      <th>...</th>\n",
              "      <th>id_31</th>\n",
              "      <th>id_32</th>\n",
              "      <th>id_33</th>\n",
              "      <th>id_34</th>\n",
              "      <th>id_35</th>\n",
              "      <th>id_36</th>\n",
              "      <th>id_37</th>\n",
              "      <th>id_38</th>\n",
              "      <th>DeviceType</th>\n",
              "      <th>DeviceInfo</th>\n",
              "    </tr>\n",
              "  </thead>\n",
              "  <tbody>\n",
              "    <tr>\n",
              "      <th>0</th>\n",
              "      <td>2987004</td>\n",
              "      <td>0.0</td>\n",
              "      <td>70787.0</td>\n",
              "      <td>NaN</td>\n",
              "      <td>NaN</td>\n",
              "      <td>NaN</td>\n",
              "      <td>NaN</td>\n",
              "      <td>NaN</td>\n",
              "      <td>NaN</td>\n",
              "      <td>NaN</td>\n",
              "      <td>...</td>\n",
              "      <td>samsung browser 6.2</td>\n",
              "      <td>32.0</td>\n",
              "      <td>2220x1080</td>\n",
              "      <td>match_status:2</td>\n",
              "      <td>T</td>\n",
              "      <td>F</td>\n",
              "      <td>T</td>\n",
              "      <td>T</td>\n",
              "      <td>mobile</td>\n",
              "      <td>SAMSUNG SM-G892A Build/NRD90M</td>\n",
              "    </tr>\n",
              "    <tr>\n",
              "      <th>1</th>\n",
              "      <td>2987008</td>\n",
              "      <td>-5.0</td>\n",
              "      <td>98945.0</td>\n",
              "      <td>NaN</td>\n",
              "      <td>NaN</td>\n",
              "      <td>0.0</td>\n",
              "      <td>-5.0</td>\n",
              "      <td>NaN</td>\n",
              "      <td>NaN</td>\n",
              "      <td>NaN</td>\n",
              "      <td>...</td>\n",
              "      <td>mobile safari 11.0</td>\n",
              "      <td>32.0</td>\n",
              "      <td>1334x750</td>\n",
              "      <td>match_status:1</td>\n",
              "      <td>T</td>\n",
              "      <td>F</td>\n",
              "      <td>F</td>\n",
              "      <td>T</td>\n",
              "      <td>mobile</td>\n",
              "      <td>iOS Device</td>\n",
              "    </tr>\n",
              "    <tr>\n",
              "      <th>2</th>\n",
              "      <td>2987010</td>\n",
              "      <td>-5.0</td>\n",
              "      <td>191631.0</td>\n",
              "      <td>0.0</td>\n",
              "      <td>0.0</td>\n",
              "      <td>0.0</td>\n",
              "      <td>0.0</td>\n",
              "      <td>NaN</td>\n",
              "      <td>NaN</td>\n",
              "      <td>0.0</td>\n",
              "      <td>...</td>\n",
              "      <td>chrome 62.0</td>\n",
              "      <td>NaN</td>\n",
              "      <td>NaN</td>\n",
              "      <td>NaN</td>\n",
              "      <td>F</td>\n",
              "      <td>F</td>\n",
              "      <td>T</td>\n",
              "      <td>T</td>\n",
              "      <td>desktop</td>\n",
              "      <td>Windows</td>\n",
              "    </tr>\n",
              "    <tr>\n",
              "      <th>3</th>\n",
              "      <td>2987011</td>\n",
              "      <td>-5.0</td>\n",
              "      <td>221832.0</td>\n",
              "      <td>NaN</td>\n",
              "      <td>NaN</td>\n",
              "      <td>0.0</td>\n",
              "      <td>-6.0</td>\n",
              "      <td>NaN</td>\n",
              "      <td>NaN</td>\n",
              "      <td>NaN</td>\n",
              "      <td>...</td>\n",
              "      <td>chrome 62.0</td>\n",
              "      <td>NaN</td>\n",
              "      <td>NaN</td>\n",
              "      <td>NaN</td>\n",
              "      <td>F</td>\n",
              "      <td>F</td>\n",
              "      <td>T</td>\n",
              "      <td>T</td>\n",
              "      <td>desktop</td>\n",
              "      <td>NaN</td>\n",
              "    </tr>\n",
              "    <tr>\n",
              "      <th>4</th>\n",
              "      <td>2987016</td>\n",
              "      <td>0.0</td>\n",
              "      <td>7460.0</td>\n",
              "      <td>0.0</td>\n",
              "      <td>0.0</td>\n",
              "      <td>1.0</td>\n",
              "      <td>0.0</td>\n",
              "      <td>NaN</td>\n",
              "      <td>NaN</td>\n",
              "      <td>0.0</td>\n",
              "      <td>...</td>\n",
              "      <td>chrome 62.0</td>\n",
              "      <td>24.0</td>\n",
              "      <td>1280x800</td>\n",
              "      <td>match_status:2</td>\n",
              "      <td>T</td>\n",
              "      <td>F</td>\n",
              "      <td>T</td>\n",
              "      <td>T</td>\n",
              "      <td>desktop</td>\n",
              "      <td>MacOS</td>\n",
              "    </tr>\n",
              "  </tbody>\n",
              "</table>\n",
              "<p>5 rows × 41 columns</p>\n",
              "</div>\n",
              "      <button class=\"colab-df-convert\" onclick=\"convertToInteractive('df-7aa59784-e8b9-4636-b1a2-956b6bb473b1')\"\n",
              "              title=\"Convert this dataframe to an interactive table.\"\n",
              "              style=\"display:none;\">\n",
              "        \n",
              "  <svg xmlns=\"http://www.w3.org/2000/svg\" height=\"24px\"viewBox=\"0 0 24 24\"\n",
              "       width=\"24px\">\n",
              "    <path d=\"M0 0h24v24H0V0z\" fill=\"none\"/>\n",
              "    <path d=\"M18.56 5.44l.94 2.06.94-2.06 2.06-.94-2.06-.94-.94-2.06-.94 2.06-2.06.94zm-11 1L8.5 8.5l.94-2.06 2.06-.94-2.06-.94L8.5 2.5l-.94 2.06-2.06.94zm10 10l.94 2.06.94-2.06 2.06-.94-2.06-.94-.94-2.06-.94 2.06-2.06.94z\"/><path d=\"M17.41 7.96l-1.37-1.37c-.4-.4-.92-.59-1.43-.59-.52 0-1.04.2-1.43.59L10.3 9.45l-7.72 7.72c-.78.78-.78 2.05 0 2.83L4 21.41c.39.39.9.59 1.41.59.51 0 1.02-.2 1.41-.59l7.78-7.78 2.81-2.81c.8-.78.8-2.07 0-2.86zM5.41 20L4 18.59l7.72-7.72 1.47 1.35L5.41 20z\"/>\n",
              "  </svg>\n",
              "      </button>\n",
              "      \n",
              "  <style>\n",
              "    .colab-df-container {\n",
              "      display:flex;\n",
              "      flex-wrap:wrap;\n",
              "      gap: 12px;\n",
              "    }\n",
              "\n",
              "    .colab-df-convert {\n",
              "      background-color: #E8F0FE;\n",
              "      border: none;\n",
              "      border-radius: 50%;\n",
              "      cursor: pointer;\n",
              "      display: none;\n",
              "      fill: #1967D2;\n",
              "      height: 32px;\n",
              "      padding: 0 0 0 0;\n",
              "      width: 32px;\n",
              "    }\n",
              "\n",
              "    .colab-df-convert:hover {\n",
              "      background-color: #E2EBFA;\n",
              "      box-shadow: 0px 1px 2px rgba(60, 64, 67, 0.3), 0px 1px 3px 1px rgba(60, 64, 67, 0.15);\n",
              "      fill: #174EA6;\n",
              "    }\n",
              "\n",
              "    [theme=dark] .colab-df-convert {\n",
              "      background-color: #3B4455;\n",
              "      fill: #D2E3FC;\n",
              "    }\n",
              "\n",
              "    [theme=dark] .colab-df-convert:hover {\n",
              "      background-color: #434B5C;\n",
              "      box-shadow: 0px 1px 3px 1px rgba(0, 0, 0, 0.15);\n",
              "      filter: drop-shadow(0px 1px 2px rgba(0, 0, 0, 0.3));\n",
              "      fill: #FFFFFF;\n",
              "    }\n",
              "  </style>\n",
              "\n",
              "      <script>\n",
              "        const buttonEl =\n",
              "          document.querySelector('#df-7aa59784-e8b9-4636-b1a2-956b6bb473b1 button.colab-df-convert');\n",
              "        buttonEl.style.display =\n",
              "          google.colab.kernel.accessAllowed ? 'block' : 'none';\n",
              "\n",
              "        async function convertToInteractive(key) {\n",
              "          const element = document.querySelector('#df-7aa59784-e8b9-4636-b1a2-956b6bb473b1');\n",
              "          const dataTable =\n",
              "            await google.colab.kernel.invokeFunction('convertToInteractive',\n",
              "                                                     [key], {});\n",
              "          if (!dataTable) return;\n",
              "\n",
              "          const docLinkHtml = 'Like what you see? Visit the ' +\n",
              "            '<a target=\"_blank\" href=https://colab.research.google.com/notebooks/data_table.ipynb>data table notebook</a>'\n",
              "            + ' to learn more about interactive tables.';\n",
              "          element.innerHTML = '';\n",
              "          dataTable['output_type'] = 'display_data';\n",
              "          await google.colab.output.renderOutput(dataTable, element);\n",
              "          const docLink = document.createElement('div');\n",
              "          docLink.innerHTML = docLinkHtml;\n",
              "          element.appendChild(docLink);\n",
              "        }\n",
              "      </script>\n",
              "    </div>\n",
              "  </div>\n",
              "  "
            ]
          },
          "metadata": {},
          "execution_count": 7
        }
      ]
    },
    {
      "cell_type": "code",
      "source": [
        "data_transaction.head()"
      ],
      "metadata": {
        "colab": {
          "base_uri": "https://localhost:8080/",
          "height": 236
        },
        "id": "AGNbmzXX4Zte",
        "outputId": "69a10421-887e-4ecf-a127-83409f901cf5"
      },
      "execution_count": null,
      "outputs": [
        {
          "output_type": "execute_result",
          "data": {
            "text/plain": [
              "   TransactionID  isFraud  TransactionDT  TransactionAmt ProductCD  card1  \\\n",
              "0        2987000        0          86400            68.5         W  13926   \n",
              "1        2987001        0          86401            29.0         W   2755   \n",
              "2        2987002        0          86469            59.0         W   4663   \n",
              "3        2987003        0          86499            50.0         W  18132   \n",
              "4        2987004        0          86506            50.0         H   4497   \n",
              "\n",
              "   card2  card3       card4  card5  ... V330  V331  V332  V333  V334 V335  \\\n",
              "0    NaN  150.0    discover  142.0  ...  NaN   NaN   NaN   NaN   NaN  NaN   \n",
              "1  404.0  150.0  mastercard  102.0  ...  NaN   NaN   NaN   NaN   NaN  NaN   \n",
              "2  490.0  150.0        visa  166.0  ...  NaN   NaN   NaN   NaN   NaN  NaN   \n",
              "3  567.0  150.0  mastercard  117.0  ...  NaN   NaN   NaN   NaN   NaN  NaN   \n",
              "4  514.0  150.0  mastercard  102.0  ...  0.0   0.0   0.0   0.0   0.0  0.0   \n",
              "\n",
              "  V336  V337  V338  V339  \n",
              "0  NaN   NaN   NaN   NaN  \n",
              "1  NaN   NaN   NaN   NaN  \n",
              "2  NaN   NaN   NaN   NaN  \n",
              "3  NaN   NaN   NaN   NaN  \n",
              "4  0.0   0.0   0.0   0.0  \n",
              "\n",
              "[5 rows x 394 columns]"
            ],
            "text/html": [
              "\n",
              "  <div id=\"df-b83c0b88-c594-4562-8b8e-af7844d51937\">\n",
              "    <div class=\"colab-df-container\">\n",
              "      <div>\n",
              "<style scoped>\n",
              "    .dataframe tbody tr th:only-of-type {\n",
              "        vertical-align: middle;\n",
              "    }\n",
              "\n",
              "    .dataframe tbody tr th {\n",
              "        vertical-align: top;\n",
              "    }\n",
              "\n",
              "    .dataframe thead th {\n",
              "        text-align: right;\n",
              "    }\n",
              "</style>\n",
              "<table border=\"1\" class=\"dataframe\">\n",
              "  <thead>\n",
              "    <tr style=\"text-align: right;\">\n",
              "      <th></th>\n",
              "      <th>TransactionID</th>\n",
              "      <th>isFraud</th>\n",
              "      <th>TransactionDT</th>\n",
              "      <th>TransactionAmt</th>\n",
              "      <th>ProductCD</th>\n",
              "      <th>card1</th>\n",
              "      <th>card2</th>\n",
              "      <th>card3</th>\n",
              "      <th>card4</th>\n",
              "      <th>card5</th>\n",
              "      <th>...</th>\n",
              "      <th>V330</th>\n",
              "      <th>V331</th>\n",
              "      <th>V332</th>\n",
              "      <th>V333</th>\n",
              "      <th>V334</th>\n",
              "      <th>V335</th>\n",
              "      <th>V336</th>\n",
              "      <th>V337</th>\n",
              "      <th>V338</th>\n",
              "      <th>V339</th>\n",
              "    </tr>\n",
              "  </thead>\n",
              "  <tbody>\n",
              "    <tr>\n",
              "      <th>0</th>\n",
              "      <td>2987000</td>\n",
              "      <td>0</td>\n",
              "      <td>86400</td>\n",
              "      <td>68.5</td>\n",
              "      <td>W</td>\n",
              "      <td>13926</td>\n",
              "      <td>NaN</td>\n",
              "      <td>150.0</td>\n",
              "      <td>discover</td>\n",
              "      <td>142.0</td>\n",
              "      <td>...</td>\n",
              "      <td>NaN</td>\n",
              "      <td>NaN</td>\n",
              "      <td>NaN</td>\n",
              "      <td>NaN</td>\n",
              "      <td>NaN</td>\n",
              "      <td>NaN</td>\n",
              "      <td>NaN</td>\n",
              "      <td>NaN</td>\n",
              "      <td>NaN</td>\n",
              "      <td>NaN</td>\n",
              "    </tr>\n",
              "    <tr>\n",
              "      <th>1</th>\n",
              "      <td>2987001</td>\n",
              "      <td>0</td>\n",
              "      <td>86401</td>\n",
              "      <td>29.0</td>\n",
              "      <td>W</td>\n",
              "      <td>2755</td>\n",
              "      <td>404.0</td>\n",
              "      <td>150.0</td>\n",
              "      <td>mastercard</td>\n",
              "      <td>102.0</td>\n",
              "      <td>...</td>\n",
              "      <td>NaN</td>\n",
              "      <td>NaN</td>\n",
              "      <td>NaN</td>\n",
              "      <td>NaN</td>\n",
              "      <td>NaN</td>\n",
              "      <td>NaN</td>\n",
              "      <td>NaN</td>\n",
              "      <td>NaN</td>\n",
              "      <td>NaN</td>\n",
              "      <td>NaN</td>\n",
              "    </tr>\n",
              "    <tr>\n",
              "      <th>2</th>\n",
              "      <td>2987002</td>\n",
              "      <td>0</td>\n",
              "      <td>86469</td>\n",
              "      <td>59.0</td>\n",
              "      <td>W</td>\n",
              "      <td>4663</td>\n",
              "      <td>490.0</td>\n",
              "      <td>150.0</td>\n",
              "      <td>visa</td>\n",
              "      <td>166.0</td>\n",
              "      <td>...</td>\n",
              "      <td>NaN</td>\n",
              "      <td>NaN</td>\n",
              "      <td>NaN</td>\n",
              "      <td>NaN</td>\n",
              "      <td>NaN</td>\n",
              "      <td>NaN</td>\n",
              "      <td>NaN</td>\n",
              "      <td>NaN</td>\n",
              "      <td>NaN</td>\n",
              "      <td>NaN</td>\n",
              "    </tr>\n",
              "    <tr>\n",
              "      <th>3</th>\n",
              "      <td>2987003</td>\n",
              "      <td>0</td>\n",
              "      <td>86499</td>\n",
              "      <td>50.0</td>\n",
              "      <td>W</td>\n",
              "      <td>18132</td>\n",
              "      <td>567.0</td>\n",
              "      <td>150.0</td>\n",
              "      <td>mastercard</td>\n",
              "      <td>117.0</td>\n",
              "      <td>...</td>\n",
              "      <td>NaN</td>\n",
              "      <td>NaN</td>\n",
              "      <td>NaN</td>\n",
              "      <td>NaN</td>\n",
              "      <td>NaN</td>\n",
              "      <td>NaN</td>\n",
              "      <td>NaN</td>\n",
              "      <td>NaN</td>\n",
              "      <td>NaN</td>\n",
              "      <td>NaN</td>\n",
              "    </tr>\n",
              "    <tr>\n",
              "      <th>4</th>\n",
              "      <td>2987004</td>\n",
              "      <td>0</td>\n",
              "      <td>86506</td>\n",
              "      <td>50.0</td>\n",
              "      <td>H</td>\n",
              "      <td>4497</td>\n",
              "      <td>514.0</td>\n",
              "      <td>150.0</td>\n",
              "      <td>mastercard</td>\n",
              "      <td>102.0</td>\n",
              "      <td>...</td>\n",
              "      <td>0.0</td>\n",
              "      <td>0.0</td>\n",
              "      <td>0.0</td>\n",
              "      <td>0.0</td>\n",
              "      <td>0.0</td>\n",
              "      <td>0.0</td>\n",
              "      <td>0.0</td>\n",
              "      <td>0.0</td>\n",
              "      <td>0.0</td>\n",
              "      <td>0.0</td>\n",
              "    </tr>\n",
              "  </tbody>\n",
              "</table>\n",
              "<p>5 rows × 394 columns</p>\n",
              "</div>\n",
              "      <button class=\"colab-df-convert\" onclick=\"convertToInteractive('df-b83c0b88-c594-4562-8b8e-af7844d51937')\"\n",
              "              title=\"Convert this dataframe to an interactive table.\"\n",
              "              style=\"display:none;\">\n",
              "        \n",
              "  <svg xmlns=\"http://www.w3.org/2000/svg\" height=\"24px\"viewBox=\"0 0 24 24\"\n",
              "       width=\"24px\">\n",
              "    <path d=\"M0 0h24v24H0V0z\" fill=\"none\"/>\n",
              "    <path d=\"M18.56 5.44l.94 2.06.94-2.06 2.06-.94-2.06-.94-.94-2.06-.94 2.06-2.06.94zm-11 1L8.5 8.5l.94-2.06 2.06-.94-2.06-.94L8.5 2.5l-.94 2.06-2.06.94zm10 10l.94 2.06.94-2.06 2.06-.94-2.06-.94-.94-2.06-.94 2.06-2.06.94z\"/><path d=\"M17.41 7.96l-1.37-1.37c-.4-.4-.92-.59-1.43-.59-.52 0-1.04.2-1.43.59L10.3 9.45l-7.72 7.72c-.78.78-.78 2.05 0 2.83L4 21.41c.39.39.9.59 1.41.59.51 0 1.02-.2 1.41-.59l7.78-7.78 2.81-2.81c.8-.78.8-2.07 0-2.86zM5.41 20L4 18.59l7.72-7.72 1.47 1.35L5.41 20z\"/>\n",
              "  </svg>\n",
              "      </button>\n",
              "      \n",
              "  <style>\n",
              "    .colab-df-container {\n",
              "      display:flex;\n",
              "      flex-wrap:wrap;\n",
              "      gap: 12px;\n",
              "    }\n",
              "\n",
              "    .colab-df-convert {\n",
              "      background-color: #E8F0FE;\n",
              "      border: none;\n",
              "      border-radius: 50%;\n",
              "      cursor: pointer;\n",
              "      display: none;\n",
              "      fill: #1967D2;\n",
              "      height: 32px;\n",
              "      padding: 0 0 0 0;\n",
              "      width: 32px;\n",
              "    }\n",
              "\n",
              "    .colab-df-convert:hover {\n",
              "      background-color: #E2EBFA;\n",
              "      box-shadow: 0px 1px 2px rgba(60, 64, 67, 0.3), 0px 1px 3px 1px rgba(60, 64, 67, 0.15);\n",
              "      fill: #174EA6;\n",
              "    }\n",
              "\n",
              "    [theme=dark] .colab-df-convert {\n",
              "      background-color: #3B4455;\n",
              "      fill: #D2E3FC;\n",
              "    }\n",
              "\n",
              "    [theme=dark] .colab-df-convert:hover {\n",
              "      background-color: #434B5C;\n",
              "      box-shadow: 0px 1px 3px 1px rgba(0, 0, 0, 0.15);\n",
              "      filter: drop-shadow(0px 1px 2px rgba(0, 0, 0, 0.3));\n",
              "      fill: #FFFFFF;\n",
              "    }\n",
              "  </style>\n",
              "\n",
              "      <script>\n",
              "        const buttonEl =\n",
              "          document.querySelector('#df-b83c0b88-c594-4562-8b8e-af7844d51937 button.colab-df-convert');\n",
              "        buttonEl.style.display =\n",
              "          google.colab.kernel.accessAllowed ? 'block' : 'none';\n",
              "\n",
              "        async function convertToInteractive(key) {\n",
              "          const element = document.querySelector('#df-b83c0b88-c594-4562-8b8e-af7844d51937');\n",
              "          const dataTable =\n",
              "            await google.colab.kernel.invokeFunction('convertToInteractive',\n",
              "                                                     [key], {});\n",
              "          if (!dataTable) return;\n",
              "\n",
              "          const docLinkHtml = 'Like what you see? Visit the ' +\n",
              "            '<a target=\"_blank\" href=https://colab.research.google.com/notebooks/data_table.ipynb>data table notebook</a>'\n",
              "            + ' to learn more about interactive tables.';\n",
              "          element.innerHTML = '';\n",
              "          dataTable['output_type'] = 'display_data';\n",
              "          await google.colab.output.renderOutput(dataTable, element);\n",
              "          const docLink = document.createElement('div');\n",
              "          docLink.innerHTML = docLinkHtml;\n",
              "          element.appendChild(docLink);\n",
              "        }\n",
              "      </script>\n",
              "    </div>\n",
              "  </div>\n",
              "  "
            ]
          },
          "metadata": {},
          "execution_count": 8
        }
      ]
    },
    {
      "cell_type": "code",
      "source": [
        "data_identity.isna().sum().sum()"
      ],
      "metadata": {
        "colab": {
          "base_uri": "https://localhost:8080/"
        },
        "id": "b6Z7RLcDCtgt",
        "outputId": "2a7d371e-1e3e-46c2-8541-040b07caf523"
      },
      "execution_count": null,
      "outputs": [
        {
          "output_type": "execute_result",
          "data": {
            "text/plain": [
              "2104107"
            ]
          },
          "metadata": {},
          "execution_count": 9
        }
      ]
    },
    {
      "cell_type": "code",
      "source": [
        "data_transaction.isna().sum().sum()"
      ],
      "metadata": {
        "colab": {
          "base_uri": "https://localhost:8080/"
        },
        "id": "PWZdaFQuzySH",
        "outputId": "af1b3c20-8cc5-4298-e541-fe28374f8547"
      },
      "execution_count": null,
      "outputs": [
        {
          "output_type": "execute_result",
          "data": {
            "text/plain": [
              "95566686"
            ]
          },
          "metadata": {},
          "execution_count": 10
        }
      ]
    },
    {
      "cell_type": "code",
      "source": [
        "data = data_transaction.set_index('TransactionID').join(data_identity.set_index('TransactionID'))\n",
        "data = data[:70000]  #10% from size of the data to prevent memory crashinng"
      ],
      "metadata": {
        "id": "YO-xSqOpzqKt"
      },
      "execution_count": null,
      "outputs": []
    },
    {
      "cell_type": "code",
      "source": [
        "data.shape"
      ],
      "metadata": {
        "colab": {
          "base_uri": "https://localhost:8080/"
        },
        "id": "9UsF0lnMz_A9",
        "outputId": "25b932f7-5c80-4876-ce4b-63d6a672feaa"
      },
      "execution_count": null,
      "outputs": [
        {
          "output_type": "execute_result",
          "data": {
            "text/plain": [
              "(70000, 433)"
            ]
          },
          "metadata": {},
          "execution_count": 12
        }
      ]
    },
    {
      "cell_type": "code",
      "source": [
        "data.head()"
      ],
      "metadata": {
        "colab": {
          "base_uri": "https://localhost:8080/",
          "height": 328
        },
        "id": "oBwWfHEU0GT8",
        "outputId": "15dcb95a-127a-463d-ecd4-361e807d73a3"
      },
      "execution_count": null,
      "outputs": [
        {
          "output_type": "execute_result",
          "data": {
            "text/plain": [
              "               isFraud  TransactionDT  TransactionAmt ProductCD  card1  card2  \\\n",
              "TransactionID                                                                   \n",
              "2987000              0          86400            68.5         W  13926    NaN   \n",
              "2987001              0          86401            29.0         W   2755  404.0   \n",
              "2987002              0          86469            59.0         W   4663  490.0   \n",
              "2987003              0          86499            50.0         W  18132  567.0   \n",
              "2987004              0          86506            50.0         H   4497  514.0   \n",
              "\n",
              "               card3       card4  card5   card6  ...                id_31  \\\n",
              "TransactionID                                    ...                        \n",
              "2987000        150.0    discover  142.0  credit  ...                  NaN   \n",
              "2987001        150.0  mastercard  102.0  credit  ...                  NaN   \n",
              "2987002        150.0        visa  166.0   debit  ...                  NaN   \n",
              "2987003        150.0  mastercard  117.0   debit  ...                  NaN   \n",
              "2987004        150.0  mastercard  102.0  credit  ...  samsung browser 6.2   \n",
              "\n",
              "               id_32      id_33           id_34 id_35 id_36  id_37  id_38  \\\n",
              "TransactionID                                                               \n",
              "2987000          NaN        NaN             NaN   NaN   NaN    NaN    NaN   \n",
              "2987001          NaN        NaN             NaN   NaN   NaN    NaN    NaN   \n",
              "2987002          NaN        NaN             NaN   NaN   NaN    NaN    NaN   \n",
              "2987003          NaN        NaN             NaN   NaN   NaN    NaN    NaN   \n",
              "2987004         32.0  2220x1080  match_status:2     T     F      T      T   \n",
              "\n",
              "               DeviceType                     DeviceInfo  \n",
              "TransactionID                                             \n",
              "2987000               NaN                            NaN  \n",
              "2987001               NaN                            NaN  \n",
              "2987002               NaN                            NaN  \n",
              "2987003               NaN                            NaN  \n",
              "2987004            mobile  SAMSUNG SM-G892A Build/NRD90M  \n",
              "\n",
              "[5 rows x 433 columns]"
            ],
            "text/html": [
              "\n",
              "  <div id=\"df-3d2e64c3-3f00-49c3-8192-a109057d067a\">\n",
              "    <div class=\"colab-df-container\">\n",
              "      <div>\n",
              "<style scoped>\n",
              "    .dataframe tbody tr th:only-of-type {\n",
              "        vertical-align: middle;\n",
              "    }\n",
              "\n",
              "    .dataframe tbody tr th {\n",
              "        vertical-align: top;\n",
              "    }\n",
              "\n",
              "    .dataframe thead th {\n",
              "        text-align: right;\n",
              "    }\n",
              "</style>\n",
              "<table border=\"1\" class=\"dataframe\">\n",
              "  <thead>\n",
              "    <tr style=\"text-align: right;\">\n",
              "      <th></th>\n",
              "      <th>isFraud</th>\n",
              "      <th>TransactionDT</th>\n",
              "      <th>TransactionAmt</th>\n",
              "      <th>ProductCD</th>\n",
              "      <th>card1</th>\n",
              "      <th>card2</th>\n",
              "      <th>card3</th>\n",
              "      <th>card4</th>\n",
              "      <th>card5</th>\n",
              "      <th>card6</th>\n",
              "      <th>...</th>\n",
              "      <th>id_31</th>\n",
              "      <th>id_32</th>\n",
              "      <th>id_33</th>\n",
              "      <th>id_34</th>\n",
              "      <th>id_35</th>\n",
              "      <th>id_36</th>\n",
              "      <th>id_37</th>\n",
              "      <th>id_38</th>\n",
              "      <th>DeviceType</th>\n",
              "      <th>DeviceInfo</th>\n",
              "    </tr>\n",
              "    <tr>\n",
              "      <th>TransactionID</th>\n",
              "      <th></th>\n",
              "      <th></th>\n",
              "      <th></th>\n",
              "      <th></th>\n",
              "      <th></th>\n",
              "      <th></th>\n",
              "      <th></th>\n",
              "      <th></th>\n",
              "      <th></th>\n",
              "      <th></th>\n",
              "      <th></th>\n",
              "      <th></th>\n",
              "      <th></th>\n",
              "      <th></th>\n",
              "      <th></th>\n",
              "      <th></th>\n",
              "      <th></th>\n",
              "      <th></th>\n",
              "      <th></th>\n",
              "      <th></th>\n",
              "      <th></th>\n",
              "    </tr>\n",
              "  </thead>\n",
              "  <tbody>\n",
              "    <tr>\n",
              "      <th>2987000</th>\n",
              "      <td>0</td>\n",
              "      <td>86400</td>\n",
              "      <td>68.5</td>\n",
              "      <td>W</td>\n",
              "      <td>13926</td>\n",
              "      <td>NaN</td>\n",
              "      <td>150.0</td>\n",
              "      <td>discover</td>\n",
              "      <td>142.0</td>\n",
              "      <td>credit</td>\n",
              "      <td>...</td>\n",
              "      <td>NaN</td>\n",
              "      <td>NaN</td>\n",
              "      <td>NaN</td>\n",
              "      <td>NaN</td>\n",
              "      <td>NaN</td>\n",
              "      <td>NaN</td>\n",
              "      <td>NaN</td>\n",
              "      <td>NaN</td>\n",
              "      <td>NaN</td>\n",
              "      <td>NaN</td>\n",
              "    </tr>\n",
              "    <tr>\n",
              "      <th>2987001</th>\n",
              "      <td>0</td>\n",
              "      <td>86401</td>\n",
              "      <td>29.0</td>\n",
              "      <td>W</td>\n",
              "      <td>2755</td>\n",
              "      <td>404.0</td>\n",
              "      <td>150.0</td>\n",
              "      <td>mastercard</td>\n",
              "      <td>102.0</td>\n",
              "      <td>credit</td>\n",
              "      <td>...</td>\n",
              "      <td>NaN</td>\n",
              "      <td>NaN</td>\n",
              "      <td>NaN</td>\n",
              "      <td>NaN</td>\n",
              "      <td>NaN</td>\n",
              "      <td>NaN</td>\n",
              "      <td>NaN</td>\n",
              "      <td>NaN</td>\n",
              "      <td>NaN</td>\n",
              "      <td>NaN</td>\n",
              "    </tr>\n",
              "    <tr>\n",
              "      <th>2987002</th>\n",
              "      <td>0</td>\n",
              "      <td>86469</td>\n",
              "      <td>59.0</td>\n",
              "      <td>W</td>\n",
              "      <td>4663</td>\n",
              "      <td>490.0</td>\n",
              "      <td>150.0</td>\n",
              "      <td>visa</td>\n",
              "      <td>166.0</td>\n",
              "      <td>debit</td>\n",
              "      <td>...</td>\n",
              "      <td>NaN</td>\n",
              "      <td>NaN</td>\n",
              "      <td>NaN</td>\n",
              "      <td>NaN</td>\n",
              "      <td>NaN</td>\n",
              "      <td>NaN</td>\n",
              "      <td>NaN</td>\n",
              "      <td>NaN</td>\n",
              "      <td>NaN</td>\n",
              "      <td>NaN</td>\n",
              "    </tr>\n",
              "    <tr>\n",
              "      <th>2987003</th>\n",
              "      <td>0</td>\n",
              "      <td>86499</td>\n",
              "      <td>50.0</td>\n",
              "      <td>W</td>\n",
              "      <td>18132</td>\n",
              "      <td>567.0</td>\n",
              "      <td>150.0</td>\n",
              "      <td>mastercard</td>\n",
              "      <td>117.0</td>\n",
              "      <td>debit</td>\n",
              "      <td>...</td>\n",
              "      <td>NaN</td>\n",
              "      <td>NaN</td>\n",
              "      <td>NaN</td>\n",
              "      <td>NaN</td>\n",
              "      <td>NaN</td>\n",
              "      <td>NaN</td>\n",
              "      <td>NaN</td>\n",
              "      <td>NaN</td>\n",
              "      <td>NaN</td>\n",
              "      <td>NaN</td>\n",
              "    </tr>\n",
              "    <tr>\n",
              "      <th>2987004</th>\n",
              "      <td>0</td>\n",
              "      <td>86506</td>\n",
              "      <td>50.0</td>\n",
              "      <td>H</td>\n",
              "      <td>4497</td>\n",
              "      <td>514.0</td>\n",
              "      <td>150.0</td>\n",
              "      <td>mastercard</td>\n",
              "      <td>102.0</td>\n",
              "      <td>credit</td>\n",
              "      <td>...</td>\n",
              "      <td>samsung browser 6.2</td>\n",
              "      <td>32.0</td>\n",
              "      <td>2220x1080</td>\n",
              "      <td>match_status:2</td>\n",
              "      <td>T</td>\n",
              "      <td>F</td>\n",
              "      <td>T</td>\n",
              "      <td>T</td>\n",
              "      <td>mobile</td>\n",
              "      <td>SAMSUNG SM-G892A Build/NRD90M</td>\n",
              "    </tr>\n",
              "  </tbody>\n",
              "</table>\n",
              "<p>5 rows × 433 columns</p>\n",
              "</div>\n",
              "      <button class=\"colab-df-convert\" onclick=\"convertToInteractive('df-3d2e64c3-3f00-49c3-8192-a109057d067a')\"\n",
              "              title=\"Convert this dataframe to an interactive table.\"\n",
              "              style=\"display:none;\">\n",
              "        \n",
              "  <svg xmlns=\"http://www.w3.org/2000/svg\" height=\"24px\"viewBox=\"0 0 24 24\"\n",
              "       width=\"24px\">\n",
              "    <path d=\"M0 0h24v24H0V0z\" fill=\"none\"/>\n",
              "    <path d=\"M18.56 5.44l.94 2.06.94-2.06 2.06-.94-2.06-.94-.94-2.06-.94 2.06-2.06.94zm-11 1L8.5 8.5l.94-2.06 2.06-.94-2.06-.94L8.5 2.5l-.94 2.06-2.06.94zm10 10l.94 2.06.94-2.06 2.06-.94-2.06-.94-.94-2.06-.94 2.06-2.06.94z\"/><path d=\"M17.41 7.96l-1.37-1.37c-.4-.4-.92-.59-1.43-.59-.52 0-1.04.2-1.43.59L10.3 9.45l-7.72 7.72c-.78.78-.78 2.05 0 2.83L4 21.41c.39.39.9.59 1.41.59.51 0 1.02-.2 1.41-.59l7.78-7.78 2.81-2.81c.8-.78.8-2.07 0-2.86zM5.41 20L4 18.59l7.72-7.72 1.47 1.35L5.41 20z\"/>\n",
              "  </svg>\n",
              "      </button>\n",
              "      \n",
              "  <style>\n",
              "    .colab-df-container {\n",
              "      display:flex;\n",
              "      flex-wrap:wrap;\n",
              "      gap: 12px;\n",
              "    }\n",
              "\n",
              "    .colab-df-convert {\n",
              "      background-color: #E8F0FE;\n",
              "      border: none;\n",
              "      border-radius: 50%;\n",
              "      cursor: pointer;\n",
              "      display: none;\n",
              "      fill: #1967D2;\n",
              "      height: 32px;\n",
              "      padding: 0 0 0 0;\n",
              "      width: 32px;\n",
              "    }\n",
              "\n",
              "    .colab-df-convert:hover {\n",
              "      background-color: #E2EBFA;\n",
              "      box-shadow: 0px 1px 2px rgba(60, 64, 67, 0.3), 0px 1px 3px 1px rgba(60, 64, 67, 0.15);\n",
              "      fill: #174EA6;\n",
              "    }\n",
              "\n",
              "    [theme=dark] .colab-df-convert {\n",
              "      background-color: #3B4455;\n",
              "      fill: #D2E3FC;\n",
              "    }\n",
              "\n",
              "    [theme=dark] .colab-df-convert:hover {\n",
              "      background-color: #434B5C;\n",
              "      box-shadow: 0px 1px 3px 1px rgba(0, 0, 0, 0.15);\n",
              "      filter: drop-shadow(0px 1px 2px rgba(0, 0, 0, 0.3));\n",
              "      fill: #FFFFFF;\n",
              "    }\n",
              "  </style>\n",
              "\n",
              "      <script>\n",
              "        const buttonEl =\n",
              "          document.querySelector('#df-3d2e64c3-3f00-49c3-8192-a109057d067a button.colab-df-convert');\n",
              "        buttonEl.style.display =\n",
              "          google.colab.kernel.accessAllowed ? 'block' : 'none';\n",
              "\n",
              "        async function convertToInteractive(key) {\n",
              "          const element = document.querySelector('#df-3d2e64c3-3f00-49c3-8192-a109057d067a');\n",
              "          const dataTable =\n",
              "            await google.colab.kernel.invokeFunction('convertToInteractive',\n",
              "                                                     [key], {});\n",
              "          if (!dataTable) return;\n",
              "\n",
              "          const docLinkHtml = 'Like what you see? Visit the ' +\n",
              "            '<a target=\"_blank\" href=https://colab.research.google.com/notebooks/data_table.ipynb>data table notebook</a>'\n",
              "            + ' to learn more about interactive tables.';\n",
              "          element.innerHTML = '';\n",
              "          dataTable['output_type'] = 'display_data';\n",
              "          await google.colab.output.renderOutput(dataTable, element);\n",
              "          const docLink = document.createElement('div');\n",
              "          docLink.innerHTML = docLinkHtml;\n",
              "          element.appendChild(docLink);\n",
              "        }\n",
              "      </script>\n",
              "    </div>\n",
              "  </div>\n",
              "  "
            ]
          },
          "metadata": {},
          "execution_count": 13
        }
      ]
    },
    {
      "cell_type": "markdown",
      "source": [
        "#Data Exploration"
      ],
      "metadata": {
        "id": "QpRvvWaId2V0"
      }
    },
    {
      "cell_type": "code",
      "source": [
        "plt.figure(figsize=(4,5)) \n",
        "plt.title(\"Fraud Transaction Distribution\") \n",
        "p1 = sns.countplot(data['isFraud'], palette = 'plasma') \n",
        "for p in p1.patches: p1.annotate('{:6.2f}%'.format(p.get_height()/len(data)*100), (p.get_x()+0.1, p.get_height()+50)) \n",
        "plt.show()"
      ],
      "metadata": {
        "colab": {
          "base_uri": "https://localhost:8080/",
          "height": 405
        },
        "id": "oF1zzqjjdmru",
        "outputId": "246c8e33-6310-486d-b742-57cc71657064"
      },
      "execution_count": null,
      "outputs": [
        {
          "output_type": "stream",
          "name": "stderr",
          "text": [
            "/usr/local/lib/python3.7/dist-packages/seaborn/_decorators.py:43: FutureWarning: Pass the following variable as a keyword arg: x. From version 0.12, the only valid positional argument will be `data`, and passing other arguments without an explicit keyword will result in an error or misinterpretation.\n",
            "  FutureWarning\n"
          ]
        },
        {
          "output_type": "display_data",
          "data": {
            "text/plain": [
              "<Figure size 288x360 with 1 Axes>"
            ],
            "image/png": "[encoded data removed]"
          },
          "metadata": {
            "needs_background": "light"
          }
        }
      ]
    },
    {
      "cell_type": "markdown",
      "source": [
        "#we have unbalanced data such that only 2.68% are fraudulent"
      ],
      "metadata": {
        "id": "byCSSucdZ_Z1"
      }
    },
    {
      "cell_type": "code",
      "source": [
        "data.isna().sum().sum()"
      ],
      "metadata": {
        "colab": {
          "base_uri": "https://localhost:8080/"
        },
        "id": "iaw0jZF_2neQ",
        "outputId": "0be46866-bf1e-4014-b448-02dc6257414f"
      },
      "execution_count": null,
      "outputs": [
        {
          "output_type": "execute_result",
          "data": {
            "text/plain": [
              "13396373"
            ]
          },
          "metadata": {},
          "execution_count": 15
        }
      ]
    },
    {
      "cell_type": "code",
      "source": [
        "data.describe()"
      ],
      "metadata": {
        "colab": {
          "base_uri": "https://localhost:8080/",
          "height": 394
        },
        "id": "1Kj3FUFYXdde",
        "outputId": "6817b72f-cde2-43f4-ae29-4aa185e48d83"
      },
      "execution_count": null,
      "outputs": [
        {
          "output_type": "execute_result",
          "data": {
            "text/plain": [
              "            isFraud  TransactionDT  TransactionAmt         card1  \\\n",
              "count  70000.000000   7.000000e+04    70000.000000  70000.000000   \n",
              "mean       0.026843   8.488465e+05      127.389813   9897.769329   \n",
              "std        0.161625   4.351828e+05      206.876127   4922.373804   \n",
              "min        0.000000   8.640000e+04        0.292000   1001.000000   \n",
              "25%        0.000000   4.806908e+05       42.950000   6019.000000   \n",
              "50%        0.000000   8.575085e+05       70.000000   9709.000000   \n",
              "75%        0.000000   1.224046e+06      125.000000  14276.000000   \n",
              "max        1.000000   1.564844e+06     4829.950000  18395.000000   \n",
              "\n",
              "              card2         card3         card5         addr1         addr2  \\\n",
              "count  69010.000000  69997.000000  69651.000000  65027.000000  65027.000000   \n",
              "mean     368.119417    152.932697    200.537910    291.563028     85.953681   \n",
              "std      159.139430     10.724629     40.540687    104.036450      5.833075   \n",
              "min      100.000000    100.000000    100.000000    100.000000     13.000000   \n",
              "25%      215.000000    150.000000    166.000000    204.000000     87.000000   \n",
              "50%      375.000000    150.000000    226.000000    299.000000     87.000000   \n",
              "75%      514.000000    150.000000    226.000000    330.000000     87.000000   \n",
              "max      600.000000    229.000000    237.000000    540.000000    102.000000   \n",
              "\n",
              "              dist1  ...         id_17        id_18         id_19  \\\n",
              "count  22861.000000  ...  24594.000000  7614.000000  24589.000000   \n",
              "mean     126.256769  ...    178.643450    14.030076    362.228517   \n",
              "std      382.031889  ...     26.029746     1.499775    146.676148   \n",
              "min        0.000000  ...    100.000000    11.000000    100.000000   \n",
              "25%        3.000000  ...    166.000000    13.000000    266.000000   \n",
              "50%        9.000000  ...    166.000000    15.000000    352.000000   \n",
              "75%       26.000000  ...    166.000000    15.000000    492.000000   \n",
              "max     7068.000000  ...    229.000000    29.000000    670.000000   \n",
              "\n",
              "              id_20       id_21       id_22       id_24       id_25  \\\n",
              "count  24584.000000  917.000000  921.000000  853.000000  911.000000   \n",
              "mean     386.471282  400.061069   15.798046   13.221571  326.881449   \n",
              "std      154.602516  210.904847    6.529901    2.157290  109.003938   \n",
              "min      100.000000  101.000000   14.000000   11.000000  100.000000   \n",
              "25%      222.000000  252.000000   14.000000   11.000000  280.000000   \n",
              "50%      391.000000  252.000000   14.000000   15.000000  321.000000   \n",
              "75%      533.000000  596.000000   14.000000   15.000000  396.000000   \n",
              "max      648.000000  853.000000   41.000000   21.000000  545.000000   \n",
              "\n",
              "            id_26         id_32  \n",
              "count  921.000000  18149.000000  \n",
              "mean   151.500543     26.481679  \n",
              "std     31.831114      3.721643  \n",
              "min    100.000000      0.000000  \n",
              "25%    121.000000     24.000000  \n",
              "50%    152.000000     24.000000  \n",
              "75%    182.000000     32.000000  \n",
              "max    216.000000     32.000000  \n",
              "\n",
              "[8 rows x 402 columns]"
            ],
            "text/html": [
              "\n",
              "  <div id=\"df-02e89786-1941-443d-b023-bccee5bbcab9\">\n",
              "    <div class=\"colab-df-container\">\n",
              "      <div>\n",
              "<style scoped>\n",
              "    .dataframe tbody tr th:only-of-type {\n",
              "        vertical-align: middle;\n",
              "    }\n",
              "\n",
              "    .dataframe tbody tr th {\n",
              "        vertical-align: top;\n",
              "    }\n",
              "\n",
              "    .dataframe thead th {\n",
              "        text-align: right;\n",
              "    }\n",
              "</style>\n",
              "<table border=\"1\" class=\"dataframe\">\n",
              "  <thead>\n",
              "    <tr style=\"text-align: right;\">\n",
              "      <th></th>\n",
              "      <th>isFraud</th>\n",
              "      <th>TransactionDT</th>\n",
              "      <th>TransactionAmt</th>\n",
              "      <th>card1</th>\n",
              "      <th>card2</th>\n",
              "      <th>card3</th>\n",
              "      <th>card5</th>\n",
              "      <th>addr1</th>\n",
              "      <th>addr2</th>\n",
              "      <th>dist1</th>\n",
              "      <th>...</th>\n",
              "      <th>id_17</th>\n",
              "      <th>id_18</th>\n",
              "      <th>id_19</th>\n",
              "      <th>id_20</th>\n",
              "      <th>id_21</th>\n",
              "      <th>id_22</th>\n",
              "      <th>id_24</th>\n",
              "      <th>id_25</th>\n",
              "      <th>id_26</th>\n",
              "      <th>id_32</th>\n",
              "    </tr>\n",
              "  </thead>\n",
              "  <tbody>\n",
              "    <tr>\n",
              "      <th>count</th>\n",
              "      <td>70000.000000</td>\n",
              "      <td>7.000000e+04</td>\n",
              "      <td>70000.000000</td>\n",
              "      <td>70000.000000</td>\n",
              "      <td>69010.000000</td>\n",
              "      <td>69997.000000</td>\n",
              "      <td>69651.000000</td>\n",
              "      <td>65027.000000</td>\n",
              "      <td>65027.000000</td>\n",
              "      <td>22861.000000</td>\n",
              "      <td>...</td>\n",
              "      <td>24594.000000</td>\n",
              "      <td>7614.000000</td>\n",
              "      <td>24589.000000</td>\n",
              "      <td>24584.000000</td>\n",
              "      <td>917.000000</td>\n",
              "      <td>921.000000</td>\n",
              "      <td>853.000000</td>\n",
              "      <td>911.000000</td>\n",
              "      <td>921.000000</td>\n",
              "      <td>18149.000000</td>\n",
              "    </tr>\n",
              "    <tr>\n",
              "      <th>mean</th>\n",
              "      <td>0.026843</td>\n",
              "      <td>8.488465e+05</td>\n",
              "      <td>127.389813</td>\n",
              "      <td>9897.769329</td>\n",
              "      <td>368.119417</td>\n",
              "      <td>152.932697</td>\n",
              "      <td>200.537910</td>\n",
              "      <td>291.563028</td>\n",
              "      <td>85.953681</td>\n",
              "      <td>126.256769</td>\n",
              "      <td>...</td>\n",
              "      <td>178.643450</td>\n",
              "      <td>14.030076</td>\n",
              "      <td>362.228517</td>\n",
              "      <td>386.471282</td>\n",
              "      <td>400.061069</td>\n",
              "      <td>15.798046</td>\n",
              "      <td>13.221571</td>\n",
              "      <td>326.881449</td>\n",
              "      <td>151.500543</td>\n",
              "      <td>26.481679</td>\n",
              "    </tr>\n",
              "    <tr>\n",
              "      <th>std</th>\n",
              "      <td>0.161625</td>\n",
              "      <td>4.351828e+05</td>\n",
              "      <td>206.876127</td>\n",
              "      <td>4922.373804</td>\n",
              "      <td>159.139430</td>\n",
              "      <td>10.724629</td>\n",
              "      <td>40.540687</td>\n",
              "      <td>104.036450</td>\n",
              "      <td>5.833075</td>\n",
              "      <td>382.031889</td>\n",
              "      <td>...</td>\n",
              "      <td>26.029746</td>\n",
              "      <td>1.499775</td>\n",
              "      <td>146.676148</td>\n",
              "      <td>154.602516</td>\n",
              "      <td>210.904847</td>\n",
              "      <td>6.529901</td>\n",
              "      <td>2.157290</td>\n",
              "      <td>109.003938</td>\n",
              "      <td>31.831114</td>\n",
              "      <td>3.721643</td>\n",
              "    </tr>\n",
              "    <tr>\n",
              "      <th>min</th>\n",
              "      <td>0.000000</td>\n",
              "      <td>8.640000e+04</td>\n",
              "      <td>0.292000</td>\n",
              "      <td>1001.000000</td>\n",
              "      <td>100.000000</td>\n",
              "      <td>100.000000</td>\n",
              "      <td>100.000000</td>\n",
              "      <td>100.000000</td>\n",
              "      <td>13.000000</td>\n",
              "      <td>0.000000</td>\n",
              "      <td>...</td>\n",
              "      <td>100.000000</td>\n",
              "      <td>11.000000</td>\n",
              "      <td>100.000000</td>\n",
              "      <td>100.000000</td>\n",
              "      <td>101.000000</td>\n",
              "      <td>14.000000</td>\n",
              "      <td>11.000000</td>\n",
              "      <td>100.000000</td>\n",
              "      <td>100.000000</td>\n",
              "      <td>0.000000</td>\n",
              "    </tr>\n",
              "    <tr>\n",
              "      <th>25%</th>\n",
              "      <td>0.000000</td>\n",
              "      <td>4.806908e+05</td>\n",
              "      <td>42.950000</td>\n",
              "      <td>6019.000000</td>\n",
              "      <td>215.000000</td>\n",
              "      <td>150.000000</td>\n",
              "      <td>166.000000</td>\n",
              "      <td>204.000000</td>\n",
              "      <td>87.000000</td>\n",
              "      <td>3.000000</td>\n",
              "      <td>...</td>\n",
              "      <td>166.000000</td>\n",
              "      <td>13.000000</td>\n",
              "      <td>266.000000</td>\n",
              "      <td>222.000000</td>\n",
              "      <td>252.000000</td>\n",
              "      <td>14.000000</td>\n",
              "      <td>11.000000</td>\n",
              "      <td>280.000000</td>\n",
              "      <td>121.000000</td>\n",
              "      <td>24.000000</td>\n",
              "    </tr>\n",
              "    <tr>\n",
              "      <th>50%</th>\n",
              "      <td>0.000000</td>\n",
              "      <td>8.575085e+05</td>\n",
              "      <td>70.000000</td>\n",
              "      <td>9709.000000</td>\n",
              "      <td>375.000000</td>\n",
              "      <td>150.000000</td>\n",
              "      <td>226.000000</td>\n",
              "      <td>299.000000</td>\n",
              "      <td>87.000000</td>\n",
              "      <td>9.000000</td>\n",
              "      <td>...</td>\n",
              "      <td>166.000000</td>\n",
              "      <td>15.000000</td>\n",
              "      <td>352.000000</td>\n",
              "      <td>391.000000</td>\n",
              "      <td>252.000000</td>\n",
              "      <td>14.000000</td>\n",
              "      <td>15.000000</td>\n",
              "      <td>321.000000</td>\n",
              "      <td>152.000000</td>\n",
              "      <td>24.000000</td>\n",
              "    </tr>\n",
              "    <tr>\n",
              "      <th>75%</th>\n",
              "      <td>0.000000</td>\n",
              "      <td>1.224046e+06</td>\n",
              "      <td>125.000000</td>\n",
              "      <td>14276.000000</td>\n",
              "      <td>514.000000</td>\n",
              "      <td>150.000000</td>\n",
              "      <td>226.000000</td>\n",
              "      <td>330.000000</td>\n",
              "      <td>87.000000</td>\n",
              "      <td>26.000000</td>\n",
              "      <td>...</td>\n",
              "      <td>166.000000</td>\n",
              "      <td>15.000000</td>\n",
              "      <td>492.000000</td>\n",
              "      <td>533.000000</td>\n",
              "      <td>596.000000</td>\n",
              "      <td>14.000000</td>\n",
              "      <td>15.000000</td>\n",
              "      <td>396.000000</td>\n",
              "      <td>182.000000</td>\n",
              "      <td>32.000000</td>\n",
              "    </tr>\n",
              "    <tr>\n",
              "      <th>max</th>\n",
              "      <td>1.000000</td>\n",
              "      <td>1.564844e+06</td>\n",
              "      <td>4829.950000</td>\n",
              "      <td>18395.000000</td>\n",
              "      <td>600.000000</td>\n",
              "      <td>229.000000</td>\n",
              "      <td>237.000000</td>\n",
              "      <td>540.000000</td>\n",
              "      <td>102.000000</td>\n",
              "      <td>7068.000000</td>\n",
              "      <td>...</td>\n",
              "      <td>229.000000</td>\n",
              "      <td>29.000000</td>\n",
              "      <td>670.000000</td>\n",
              "      <td>648.000000</td>\n",
              "      <td>853.000000</td>\n",
              "      <td>41.000000</td>\n",
              "      <td>21.000000</td>\n",
              "      <td>545.000000</td>\n",
              "      <td>216.000000</td>\n",
              "      <td>32.000000</td>\n",
              "    </tr>\n",
              "  </tbody>\n",
              "</table>\n",
              "<p>8 rows × 402 columns</p>\n",
              "</div>\n",
              "      <button class=\"colab-df-convert\" onclick=\"convertToInteractive('df-02e89786-1941-443d-b023-bccee5bbcab9')\"\n",
              "              title=\"Convert this dataframe to an interactive table.\"\n",
              "              style=\"display:none;\">\n",
              "        \n",
              "  <svg xmlns=\"http://www.w3.org/2000/svg\" height=\"24px\"viewBox=\"0 0 24 24\"\n",
              "       width=\"24px\">\n",
              "    <path d=\"M0 0h24v24H0V0z\" fill=\"none\"/>\n",
              "    <path d=\"M18.56 5.44l.94 2.06.94-2.06 2.06-.94-2.06-.94-.94-2.06-.94 2.06-2.06.94zm-11 1L8.5 8.5l.94-2.06 2.06-.94-2.06-.94L8.5 2.5l-.94 2.06-2.06.94zm10 10l.94 2.06.94-2.06 2.06-.94-2.06-.94-.94-2.06-.94 2.06-2.06.94z\"/><path d=\"M17.41 7.96l-1.37-1.37c-.4-.4-.92-.59-1.43-.59-.52 0-1.04.2-1.43.59L10.3 9.45l-7.72 7.72c-.78.78-.78 2.05 0 2.83L4 21.41c.39.39.9.59 1.41.59.51 0 1.02-.2 1.41-.59l7.78-7.78 2.81-2.81c.8-.78.8-2.07 0-2.86zM5.41 20L4 18.59l7.72-7.72 1.47 1.35L5.41 20z\"/>\n",
              "  </svg>\n",
              "      </button>\n",
              "      \n",
              "  <style>\n",
              "    .colab-df-container {\n",
              "      display:flex;\n",
              "      flex-wrap:wrap;\n",
              "      gap: 12px;\n",
              "    }\n",
              "\n",
              "    .colab-df-convert {\n",
              "      background-color: #E8F0FE;\n",
              "      border: none;\n",
              "      border-radius: 50%;\n",
              "      cursor: pointer;\n",
              "      display: none;\n",
              "      fill: #1967D2;\n",
              "      height: 32px;\n",
              "      padding: 0 0 0 0;\n",
              "      width: 32px;\n",
              "    }\n",
              "\n",
              "    .colab-df-convert:hover {\n",
              "      background-color: #E2EBFA;\n",
              "      box-shadow: 0px 1px 2px rgba(60, 64, 67, 0.3), 0px 1px 3px 1px rgba(60, 64, 67, 0.15);\n",
              "      fill: #174EA6;\n",
              "    }\n",
              "\n",
              "    [theme=dark] .colab-df-convert {\n",
              "      background-color: #3B4455;\n",
              "      fill: #D2E3FC;\n",
              "    }\n",
              "\n",
              "    [theme=dark] .colab-df-convert:hover {\n",
              "      background-color: #434B5C;\n",
              "      box-shadow: 0px 1px 3px 1px rgba(0, 0, 0, 0.15);\n",
              "      filter: drop-shadow(0px 1px 2px rgba(0, 0, 0, 0.3));\n",
              "      fill: #FFFFFF;\n",
              "    }\n",
              "  </style>\n",
              "\n",
              "      <script>\n",
              "        const buttonEl =\n",
              "          document.querySelector('#df-02e89786-1941-443d-b023-bccee5bbcab9 button.colab-df-convert');\n",
              "        buttonEl.style.display =\n",
              "          google.colab.kernel.accessAllowed ? 'block' : 'none';\n",
              "\n",
              "        async function convertToInteractive(key) {\n",
              "          const element = document.querySelector('#df-02e89786-1941-443d-b023-bccee5bbcab9');\n",
              "          const dataTable =\n",
              "            await google.colab.kernel.invokeFunction('convertToInteractive',\n",
              "                                                     [key], {});\n",
              "          if (!dataTable) return;\n",
              "\n",
              "          const docLinkHtml = 'Like what you see? Visit the ' +\n",
              "            '<a target=\"_blank\" href=https://colab.research.google.com/notebooks/data_table.ipynb>data table notebook</a>'\n",
              "            + ' to learn more about interactive tables.';\n",
              "          element.innerHTML = '';\n",
              "          dataTable['output_type'] = 'display_data';\n",
              "          await google.colab.output.renderOutput(dataTable, element);\n",
              "          const docLink = document.createElement('div');\n",
              "          docLink.innerHTML = docLinkHtml;\n",
              "          element.appendChild(docLink);\n",
              "        }\n",
              "      </script>\n",
              "    </div>\n",
              "  </div>\n",
              "  "
            ]
          },
          "metadata": {},
          "execution_count": 16
        }
      ]
    },
    {
      "cell_type": "code",
      "source": [
        "gc.collect()"
      ],
      "metadata": {
        "colab": {
          "base_uri": "https://localhost:8080/"
        },
        "id": "nNSQMTvUIozR",
        "outputId": "e4114d98-98b6-4fd5-d52e-2c3d361e8c47"
      },
      "execution_count": null,
      "outputs": [
        {
          "output_type": "execute_result",
          "data": {
            "text/plain": [
              "178"
            ]
          },
          "metadata": {},
          "execution_count": 19
        }
      ]
    },
    {
      "cell_type": "markdown",
      "source": [
        "#Selecting the Features with more than 70 percent missing values"
      ],
      "metadata": {
        "id": "kDn7pmVwrDGh"
      }
    },
    {
      "cell_type": "code",
      "source": [
        "def check_most_missing_cols(df,cols=None,axis=0):\n",
        "    if cols != None:\n",
        "        df = df[cols]\n",
        "    missing_num = df.isnull().sum(axis).to_frame().rename(columns={0:'No of Missing'})\n",
        "    missing_num['Percent Of missing'] = df.isnull().mean(axis)*100\n",
        "    df_colmissing= missing_num.sort_values(by='Percent Of missing',ascending = False) \n",
        "    most_misssig_cols = [df_colmissing for row in df_colmissing['Percent Of missing'] if row>70]\n",
        "    print(len(most_misssig_cols))\n",
        "    return df_colmissing.iloc[:len(most_misssig_cols),:]"
      ],
      "metadata": {
        "id": "foe2hnpxLjYj"
      },
      "execution_count": null,
      "outputs": []
    },
    {
      "cell_type": "code",
      "source": [
        "check_most_missing_cols(data,cols=None,axis=0)\n"
      ],
      "metadata": {
        "colab": {
          "base_uri": "https://localhost:8080/",
          "height": 1000
        },
        "id": "O2OJZZ6KLuiV",
        "outputId": "86a31f0b-372c-4789-e8f1-d0703aa6ed3d"
      },
      "execution_count": null,
      "outputs": [
        {
          "output_type": "stream",
          "name": "stdout",
          "text": [
            "30\n"
          ]
        },
        {
          "output_type": "execute_result",
          "data": {
            "text/plain": [
              "       No of Missing  Percent Of missing\n",
              "id_24          69147           98.781429\n",
              "id_25          69089           98.698571\n",
              "id_21          69083           98.690000\n",
              "id_08          69080           98.685714\n",
              "id_07          69080           98.685714\n",
              "id_22          69079           98.684286\n",
              "id_27          69079           98.684286\n",
              "id_26          69079           98.684286\n",
              "id_23          69079           98.684286\n",
              "D7             66250           94.642857\n",
              "dist2          65091           92.987143\n",
              "D13            64161           91.658571\n",
              "D12            63510           90.728571\n",
              "D14            63290           90.414286\n",
              "id_18          62386           89.122857\n",
              "D6             62328           89.040000\n",
              "id_04          58551           83.644286\n",
              "id_03          58551           83.644286\n",
              "M8             57703           82.432857\n",
              "M7             57703           82.432857\n",
              "M9             57703           82.432857\n",
              "D9             56654           80.934286\n",
              "D8             56654           80.934286\n",
              "id_10          56654           80.934286\n",
              "id_09          56654           80.934286\n",
              "id_33          53198           75.997143\n",
              "id_34          51880           74.114286\n",
              "id_30          51852           74.074286\n",
              "id_32          51851           74.072857\n",
              "id_14          51528           73.611429"
            ],
            "text/html": [
              "\n",
              "  <div id=\"df-5fb2d58f-0a00-4e78-ad63-d30df4b743c1\">\n",
              "    <div class=\"colab-df-container\">\n",
              "      <div>\n",
              "<style scoped>\n",
              "    .dataframe tbody tr th:only-of-type {\n",
              "        vertical-align: middle;\n",
              "    }\n",
              "\n",
              "    .dataframe tbody tr th {\n",
              "        vertical-align: top;\n",
              "    }\n",
              "\n",
              "    .dataframe thead th {\n",
              "        text-align: right;\n",
              "    }\n",
              "</style>\n",
              "<table border=\"1\" class=\"dataframe\">\n",
              "  <thead>\n",
              "    <tr style=\"text-align: right;\">\n",
              "      <th></th>\n",
              "      <th>No of Missing</th>\n",
              "      <th>Percent Of missing</th>\n",
              "    </tr>\n",
              "  </thead>\n",
              "  <tbody>\n",
              "    <tr>\n",
              "      <th>id_24</th>\n",
              "      <td>69147</td>\n",
              "      <td>98.781429</td>\n",
              "    </tr>\n",
              "    <tr>\n",
              "      <th>id_25</th>\n",
              "      <td>69089</td>\n",
              "      <td>98.698571</td>\n",
              "    </tr>\n",
              "    <tr>\n",
              "      <th>id_21</th>\n",
              "      <td>69083</td>\n",
              "      <td>98.690000</td>\n",
              "    </tr>\n",
              "    <tr>\n",
              "      <th>id_08</th>\n",
              "      <td>69080</td>\n",
              "      <td>98.685714</td>\n",
              "    </tr>\n",
              "    <tr>\n",
              "      <th>id_07</th>\n",
              "      <td>69080</td>\n",
              "      <td>98.685714</td>\n",
              "    </tr>\n",
              "    <tr>\n",
              "      <th>id_22</th>\n",
              "      <td>69079</td>\n",
              "      <td>98.684286</td>\n",
              "    </tr>\n",
              "    <tr>\n",
              "      <th>id_27</th>\n",
              "      <td>69079</td>\n",
              "      <td>98.684286</td>\n",
              "    </tr>\n",
              "    <tr>\n",
              "      <th>id_26</th>\n",
              "      <td>69079</td>\n",
              "      <td>98.684286</td>\n",
              "    </tr>\n",
              "    <tr>\n",
              "      <th>id_23</th>\n",
              "      <td>69079</td>\n",
              "      <td>98.684286</td>\n",
              "    </tr>\n",
              "    <tr>\n",
              "      <th>D7</th>\n",
              "      <td>66250</td>\n",
              "      <td>94.642857</td>\n",
              "    </tr>\n",
              "    <tr>\n",
              "      <th>dist2</th>\n",
              "      <td>65091</td>\n",
              "      <td>92.987143</td>\n",
              "    </tr>\n",
              "    <tr>\n",
              "      <th>D13</th>\n",
              "      <td>64161</td>\n",
              "      <td>91.658571</td>\n",
              "    </tr>\n",
              "    <tr>\n",
              "      <th>D12</th>\n",
              "      <td>63510</td>\n",
              "      <td>90.728571</td>\n",
              "    </tr>\n",
              "    <tr>\n",
              "      <th>D14</th>\n",
              "      <td>63290</td>\n",
              "      <td>90.414286</td>\n",
              "    </tr>\n",
              "    <tr>\n",
              "      <th>id_18</th>\n",
              "      <td>62386</td>\n",
              "      <td>89.122857</td>\n",
              "    </tr>\n",
              "    <tr>\n",
              "      <th>D6</th>\n",
              "      <td>62328</td>\n",
              "      <td>89.040000</td>\n",
              "    </tr>\n",
              "    <tr>\n",
              "      <th>id_04</th>\n",
              "      <td>58551</td>\n",
              "      <td>83.644286</td>\n",
              "    </tr>\n",
              "    <tr>\n",
              "      <th>id_03</th>\n",
              "      <td>58551</td>\n",
              "      <td>83.644286</td>\n",
              "    </tr>\n",
              "    <tr>\n",
              "      <th>M8</th>\n",
              "      <td>57703</td>\n",
              "      <td>82.432857</td>\n",
              "    </tr>\n",
              "    <tr>\n",
              "      <th>M7</th>\n",
              "      <td>57703</td>\n",
              "      <td>82.432857</td>\n",
              "    </tr>\n",
              "    <tr>\n",
              "      <th>M9</th>\n",
              "      <td>57703</td>\n",
              "      <td>82.432857</td>\n",
              "    </tr>\n",
              "    <tr>\n",
              "      <th>D9</th>\n",
              "      <td>56654</td>\n",
              "      <td>80.934286</td>\n",
              "    </tr>\n",
              "    <tr>\n",
              "      <th>D8</th>\n",
              "      <td>56654</td>\n",
              "      <td>80.934286</td>\n",
              "    </tr>\n",
              "    <tr>\n",
              "      <th>id_10</th>\n",
              "      <td>56654</td>\n",
              "      <td>80.934286</td>\n",
              "    </tr>\n",
              "    <tr>\n",
              "      <th>id_09</th>\n",
              "      <td>56654</td>\n",
              "      <td>80.934286</td>\n",
              "    </tr>\n",
              "    <tr>\n",
              "      <th>id_33</th>\n",
              "      <td>53198</td>\n",
              "      <td>75.997143</td>\n",
              "    </tr>\n",
              "    <tr>\n",
              "      <th>id_34</th>\n",
              "      <td>51880</td>\n",
              "      <td>74.114286</td>\n",
              "    </tr>\n",
              "    <tr>\n",
              "      <th>id_30</th>\n",
              "      <td>51852</td>\n",
              "      <td>74.074286</td>\n",
              "    </tr>\n",
              "    <tr>\n",
              "      <th>id_32</th>\n",
              "      <td>51851</td>\n",
              "      <td>74.072857</td>\n",
              "    </tr>\n",
              "    <tr>\n",
              "      <th>id_14</th>\n",
              "      <td>51528</td>\n",
              "      <td>73.611429</td>\n",
              "    </tr>\n",
              "  </tbody>\n",
              "</table>\n",
              "</div>\n",
              "      <button class=\"colab-df-convert\" onclick=\"convertToInteractive('df-5fb2d58f-0a00-4e78-ad63-d30df4b743c1')\"\n",
              "              title=\"Convert this dataframe to an interactive table.\"\n",
              "              style=\"display:none;\">\n",
              "        \n",
              "  <svg xmlns=\"http://www.w3.org/2000/svg\" height=\"24px\"viewBox=\"0 0 24 24\"\n",
              "       width=\"24px\">\n",
              "    <path d=\"M0 0h24v24H0V0z\" fill=\"none\"/>\n",
              "    <path d=\"M18.56 5.44l.94 2.06.94-2.06 2.06-.94-2.06-.94-.94-2.06-.94 2.06-2.06.94zm-11 1L8.5 8.5l.94-2.06 2.06-.94-2.06-.94L8.5 2.5l-.94 2.06-2.06.94zm10 10l.94 2.06.94-2.06 2.06-.94-2.06-.94-.94-2.06-.94 2.06-2.06.94z\"/><path d=\"M17.41 7.96l-1.37-1.37c-.4-.4-.92-.59-1.43-.59-.52 0-1.04.2-1.43.59L10.3 9.45l-7.72 7.72c-.78.78-.78 2.05 0 2.83L4 21.41c.39.39.9.59 1.41.59.51 0 1.02-.2 1.41-.59l7.78-7.78 2.81-2.81c.8-.78.8-2.07 0-2.86zM5.41 20L4 18.59l7.72-7.72 1.47 1.35L5.41 20z\"/>\n",
              "  </svg>\n",
              "      </button>\n",
              "      \n",
              "  <style>\n",
              "    .colab-df-container {\n",
              "      display:flex;\n",
              "      flex-wrap:wrap;\n",
              "      gap: 12px;\n",
              "    }\n",
              "\n",
              "    .colab-df-convert {\n",
              "      background-color: #E8F0FE;\n",
              "      border: none;\n",
              "      border-radius: 50%;\n",
              "      cursor: pointer;\n",
              "      display: none;\n",
              "      fill: #1967D2;\n",
              "      height: 32px;\n",
              "      padding: 0 0 0 0;\n",
              "      width: 32px;\n",
              "    }\n",
              "\n",
              "    .colab-df-convert:hover {\n",
              "      background-color: #E2EBFA;\n",
              "      box-shadow: 0px 1px 2px rgba(60, 64, 67, 0.3), 0px 1px 3px 1px rgba(60, 64, 67, 0.15);\n",
              "      fill: #174EA6;\n",
              "    }\n",
              "\n",
              "    [theme=dark] .colab-df-convert {\n",
              "      background-color: #3B4455;\n",
              "      fill: #D2E3FC;\n",
              "    }\n",
              "\n",
              "    [theme=dark] .colab-df-convert:hover {\n",
              "      background-color: #434B5C;\n",
              "      box-shadow: 0px 1px 3px 1px rgba(0, 0, 0, 0.15);\n",
              "      filter: drop-shadow(0px 1px 2px rgba(0, 0, 0, 0.3));\n",
              "      fill: #FFFFFF;\n",
              "    }\n",
              "  </style>\n",
              "\n",
              "      <script>\n",
              "        const buttonEl =\n",
              "          document.querySelector('#df-5fb2d58f-0a00-4e78-ad63-d30df4b743c1 button.colab-df-convert');\n",
              "        buttonEl.style.display =\n",
              "          google.colab.kernel.accessAllowed ? 'block' : 'none';\n",
              "\n",
              "        async function convertToInteractive(key) {\n",
              "          const element = document.querySelector('#df-5fb2d58f-0a00-4e78-ad63-d30df4b743c1');\n",
              "          const dataTable =\n",
              "            await google.colab.kernel.invokeFunction('convertToInteractive',\n",
              "                                                     [key], {});\n",
              "          if (!dataTable) return;\n",
              "\n",
              "          const docLinkHtml = 'Like what you see? Visit the ' +\n",
              "            '<a target=\"_blank\" href=https://colab.research.google.com/notebooks/data_table.ipynb>data table notebook</a>'\n",
              "            + ' to learn more about interactive tables.';\n",
              "          element.innerHTML = '';\n",
              "          dataTable['output_type'] = 'display_data';\n",
              "          await google.colab.output.renderOutput(dataTable, element);\n",
              "          const docLink = document.createElement('div');\n",
              "          docLink.innerHTML = docLinkHtml;\n",
              "          element.appendChild(docLink);\n",
              "        }\n",
              "      </script>\n",
              "    </div>\n",
              "  </div>\n",
              "  "
            ]
          },
          "metadata": {},
          "execution_count": 59
        }
      ]
    },
    {
      "cell_type": "code",
      "source": [
        "most_missing_cols=['id_24','id_25','id_21','id_26','id_08','id_07','id_27','id_23','id_22','D7','dist2','D13','D12','D14','id_18','D6','M9','M8','M7','id_04','id_03','id_09','D9','D8','id_10','id_33','V6','V1','V2','D11','V3','V5','V4','V7','V9','V8']"
      ],
      "metadata": {
        "id": "d2ymxRxXUucT"
      },
      "execution_count": null,
      "outputs": []
    },
    {
      "cell_type": "markdown",
      "source": [
        "#removing the features with more than 70 percent missing values"
      ],
      "metadata": {
        "id": "7bb2m4NyrWjC"
      }
    },
    {
      "cell_type": "code",
      "source": [
        "#removing cols with missing values more than 70 percent to ensure we don't loss important data\n",
        "data=data.drop(most_missing_cols, axis=1)"
      ],
      "metadata": {
        "id": "ccPwOPDDX-bu"
      },
      "execution_count": null,
      "outputs": []
    },
    {
      "cell_type": "code",
      "source": [
        "data.describe()"
      ],
      "metadata": {
        "colab": {
          "base_uri": "https://localhost:8080/",
          "height": 394
        },
        "id": "t96yp4dyOX21",
        "outputId": "a79ac2c6-d620-4a4e-9e81-f8226e84358d"
      },
      "execution_count": null,
      "outputs": [
        {
          "output_type": "execute_result",
          "data": {
            "text/plain": [
              "            isFraud  TransactionDT  TransactionAmt         card1  \\\n",
              "count  70000.000000   7.000000e+04    70000.000000  70000.000000   \n",
              "mean       0.026843   8.488465e+05      127.389813   9897.769329   \n",
              "std        0.161625   4.351828e+05      206.876127   4922.373804   \n",
              "min        0.000000   8.640000e+04        0.292000   1001.000000   \n",
              "25%        0.000000   4.806908e+05       42.950000   6019.000000   \n",
              "50%        0.000000   8.575085e+05       70.000000   9709.000000   \n",
              "75%        0.000000   1.224046e+06      125.000000  14276.000000   \n",
              "max        1.000000   1.564844e+06     4829.950000  18395.000000   \n",
              "\n",
              "              card2         card3         card5         addr1         addr2  \\\n",
              "count  69010.000000  69997.000000  69651.000000  65027.000000  65027.000000   \n",
              "mean     368.119417    152.932697    200.537910    291.563028     85.953681   \n",
              "std      159.139430     10.724629     40.540687    104.036450      5.833075   \n",
              "min      100.000000    100.000000    100.000000    100.000000     13.000000   \n",
              "25%      215.000000    150.000000    166.000000    204.000000     87.000000   \n",
              "50%      375.000000    150.000000    226.000000    299.000000     87.000000   \n",
              "75%      514.000000    150.000000    226.000000    330.000000     87.000000   \n",
              "max      600.000000    229.000000    237.000000    540.000000    102.000000   \n",
              "\n",
              "              dist1  ...          id_02         id_05         id_06  \\\n",
              "count  22861.000000  ...   24803.000000  24086.000000  24086.000000   \n",
              "mean     126.256769  ...  132593.597589      1.893174     -5.745454   \n",
              "std      382.031889  ...  119860.115655      5.166709     15.763121   \n",
              "min        0.000000  ...    1120.000000    -31.000000   -100.000000   \n",
              "25%        3.000000  ...   54731.000000      0.000000     -4.000000   \n",
              "50%        9.000000  ...   99002.000000      0.000000      0.000000   \n",
              "75%       26.000000  ...  169219.500000      1.000000      0.000000   \n",
              "max     7068.000000  ...  998295.000000     52.000000      0.000000   \n",
              "\n",
              "              id_11         id_13         id_14         id_17         id_19  \\\n",
              "count  24807.000000  19956.000000  18472.000000  24594.000000  24589.000000   \n",
              "mean      99.684576     47.545901   -345.609030    178.643450    362.228517   \n",
              "std        1.237012     10.458434     84.785713     26.029746    146.676148   \n",
              "min       90.000000     11.000000   -600.000000    100.000000    100.000000   \n",
              "25%      100.000000     49.000000   -360.000000    166.000000    266.000000   \n",
              "50%      100.000000     52.000000   -300.000000    166.000000    352.000000   \n",
              "75%      100.000000     52.000000   -300.000000    166.000000    492.000000   \n",
              "max      100.000000     63.000000    720.000000    229.000000    670.000000   \n",
              "\n",
              "              id_20         id_32  \n",
              "count  24584.000000  18149.000000  \n",
              "mean     386.471282     26.481679  \n",
              "std      154.602516      3.721643  \n",
              "min      100.000000      0.000000  \n",
              "25%      222.000000     24.000000  \n",
              "50%      391.000000     24.000000  \n",
              "75%      533.000000     32.000000  \n",
              "max      648.000000     32.000000  \n",
              "\n",
              "[8 rows x 372 columns]"
            ],
            "text/html": [
              "\n",
              "  <div id=\"df-f2103ef4-8e3a-4a63-8671-cf7c5933ff7f\">\n",
              "    <div class=\"colab-df-container\">\n",
              "      <div>\n",
              "<style scoped>\n",
              "    .dataframe tbody tr th:only-of-type {\n",
              "        vertical-align: middle;\n",
              "    }\n",
              "\n",
              "    .dataframe tbody tr th {\n",
              "        vertical-align: top;\n",
              "    }\n",
              "\n",
              "    .dataframe thead th {\n",
              "        text-align: right;\n",
              "    }\n",
              "</style>\n",
              "<table border=\"1\" class=\"dataframe\">\n",
              "  <thead>\n",
              "    <tr style=\"text-align: right;\">\n",
              "      <th></th>\n",
              "      <th>isFraud</th>\n",
              "      <th>TransactionDT</th>\n",
              "      <th>TransactionAmt</th>\n",
              "      <th>card1</th>\n",
              "      <th>card2</th>\n",
              "      <th>card3</th>\n",
              "      <th>card5</th>\n",
              "      <th>addr1</th>\n",
              "      <th>addr2</th>\n",
              "      <th>dist1</th>\n",
              "      <th>...</th>\n",
              "      <th>id_02</th>\n",
              "      <th>id_05</th>\n",
              "      <th>id_06</th>\n",
              "      <th>id_11</th>\n",
              "      <th>id_13</th>\n",
              "      <th>id_14</th>\n",
              "      <th>id_17</th>\n",
              "      <th>id_19</th>\n",
              "      <th>id_20</th>\n",
              "      <th>id_32</th>\n",
              "    </tr>\n",
              "  </thead>\n",
              "  <tbody>\n",
              "    <tr>\n",
              "      <th>count</th>\n",
              "      <td>70000.000000</td>\n",
              "      <td>7.000000e+04</td>\n",
              "      <td>70000.000000</td>\n",
              "      <td>70000.000000</td>\n",
              "      <td>69010.000000</td>\n",
              "      <td>69997.000000</td>\n",
              "      <td>69651.000000</td>\n",
              "      <td>65027.000000</td>\n",
              "      <td>65027.000000</td>\n",
              "      <td>22861.000000</td>\n",
              "      <td>...</td>\n",
              "      <td>24803.000000</td>\n",
              "      <td>24086.000000</td>\n",
              "      <td>24086.000000</td>\n",
              "      <td>24807.000000</td>\n",
              "      <td>19956.000000</td>\n",
              "      <td>18472.000000</td>\n",
              "      <td>24594.000000</td>\n",
              "      <td>24589.000000</td>\n",
              "      <td>24584.000000</td>\n",
              "      <td>18149.000000</td>\n",
              "    </tr>\n",
              "    <tr>\n",
              "      <th>mean</th>\n",
              "      <td>0.026843</td>\n",
              "      <td>8.488465e+05</td>\n",
              "      <td>127.389813</td>\n",
              "      <td>9897.769329</td>\n",
              "      <td>368.119417</td>\n",
              "      <td>152.932697</td>\n",
              "      <td>200.537910</td>\n",
              "      <td>291.563028</td>\n",
              "      <td>85.953681</td>\n",
              "      <td>126.256769</td>\n",
              "      <td>...</td>\n",
              "      <td>132593.597589</td>\n",
              "      <td>1.893174</td>\n",
              "      <td>-5.745454</td>\n",
              "      <td>99.684576</td>\n",
              "      <td>47.545901</td>\n",
              "      <td>-345.609030</td>\n",
              "      <td>178.643450</td>\n",
              "      <td>362.228517</td>\n",
              "      <td>386.471282</td>\n",
              "      <td>26.481679</td>\n",
              "    </tr>\n",
              "    <tr>\n",
              "      <th>std</th>\n",
              "      <td>0.161625</td>\n",
              "      <td>4.351828e+05</td>\n",
              "      <td>206.876127</td>\n",
              "      <td>4922.373804</td>\n",
              "      <td>159.139430</td>\n",
              "      <td>10.724629</td>\n",
              "      <td>40.540687</td>\n",
              "      <td>104.036450</td>\n",
              "      <td>5.833075</td>\n",
              "      <td>382.031889</td>\n",
              "      <td>...</td>\n",
              "      <td>119860.115655</td>\n",
              "      <td>5.166709</td>\n",
              "      <td>15.763121</td>\n",
              "      <td>1.237012</td>\n",
              "      <td>10.458434</td>\n",
              "      <td>84.785713</td>\n",
              "      <td>26.029746</td>\n",
              "      <td>146.676148</td>\n",
              "      <td>154.602516</td>\n",
              "      <td>3.721643</td>\n",
              "    </tr>\n",
              "    <tr>\n",
              "      <th>min</th>\n",
              "      <td>0.000000</td>\n",
              "      <td>8.640000e+04</td>\n",
              "      <td>0.292000</td>\n",
              "      <td>1001.000000</td>\n",
              "      <td>100.000000</td>\n",
              "      <td>100.000000</td>\n",
              "      <td>100.000000</td>\n",
              "      <td>100.000000</td>\n",
              "      <td>13.000000</td>\n",
              "      <td>0.000000</td>\n",
              "      <td>...</td>\n",
              "      <td>1120.000000</td>\n",
              "      <td>-31.000000</td>\n",
              "      <td>-100.000000</td>\n",
              "      <td>90.000000</td>\n",
              "      <td>11.000000</td>\n",
              "      <td>-600.000000</td>\n",
              "      <td>100.000000</td>\n",
              "      <td>100.000000</td>\n",
              "      <td>100.000000</td>\n",
              "      <td>0.000000</td>\n",
              "    </tr>\n",
              "    <tr>\n",
              "      <th>25%</th>\n",
              "      <td>0.000000</td>\n",
              "      <td>4.806908e+05</td>\n",
              "      <td>42.950000</td>\n",
              "      <td>6019.000000</td>\n",
              "      <td>215.000000</td>\n",
              "      <td>150.000000</td>\n",
              "      <td>166.000000</td>\n",
              "      <td>204.000000</td>\n",
              "      <td>87.000000</td>\n",
              "      <td>3.000000</td>\n",
              "      <td>...</td>\n",
              "      <td>54731.000000</td>\n",
              "      <td>0.000000</td>\n",
              "      <td>-4.000000</td>\n",
              "      <td>100.000000</td>\n",
              "      <td>49.000000</td>\n",
              "      <td>-360.000000</td>\n",
              "      <td>166.000000</td>\n",
              "      <td>266.000000</td>\n",
              "      <td>222.000000</td>\n",
              "      <td>24.000000</td>\n",
              "    </tr>\n",
              "    <tr>\n",
              "      <th>50%</th>\n",
              "      <td>0.000000</td>\n",
              "      <td>8.575085e+05</td>\n",
              "      <td>70.000000</td>\n",
              "      <td>9709.000000</td>\n",
              "      <td>375.000000</td>\n",
              "      <td>150.000000</td>\n",
              "      <td>226.000000</td>\n",
              "      <td>299.000000</td>\n",
              "      <td>87.000000</td>\n",
              "      <td>9.000000</td>\n",
              "      <td>...</td>\n",
              "      <td>99002.000000</td>\n",
              "      <td>0.000000</td>\n",
              "      <td>0.000000</td>\n",
              "      <td>100.000000</td>\n",
              "      <td>52.000000</td>\n",
              "      <td>-300.000000</td>\n",
              "      <td>166.000000</td>\n",
              "      <td>352.000000</td>\n",
              "      <td>391.000000</td>\n",
              "      <td>24.000000</td>\n",
              "    </tr>\n",
              "    <tr>\n",
              "      <th>75%</th>\n",
              "      <td>0.000000</td>\n",
              "      <td>1.224046e+06</td>\n",
              "      <td>125.000000</td>\n",
              "      <td>14276.000000</td>\n",
              "      <td>514.000000</td>\n",
              "      <td>150.000000</td>\n",
              "      <td>226.000000</td>\n",
              "      <td>330.000000</td>\n",
              "      <td>87.000000</td>\n",
              "      <td>26.000000</td>\n",
              "      <td>...</td>\n",
              "      <td>169219.500000</td>\n",
              "      <td>1.000000</td>\n",
              "      <td>0.000000</td>\n",
              "      <td>100.000000</td>\n",
              "      <td>52.000000</td>\n",
              "      <td>-300.000000</td>\n",
              "      <td>166.000000</td>\n",
              "      <td>492.000000</td>\n",
              "      <td>533.000000</td>\n",
              "      <td>32.000000</td>\n",
              "    </tr>\n",
              "    <tr>\n",
              "      <th>max</th>\n",
              "      <td>1.000000</td>\n",
              "      <td>1.564844e+06</td>\n",
              "      <td>4829.950000</td>\n",
              "      <td>18395.000000</td>\n",
              "      <td>600.000000</td>\n",
              "      <td>229.000000</td>\n",
              "      <td>237.000000</td>\n",
              "      <td>540.000000</td>\n",
              "      <td>102.000000</td>\n",
              "      <td>7068.000000</td>\n",
              "      <td>...</td>\n",
              "      <td>998295.000000</td>\n",
              "      <td>52.000000</td>\n",
              "      <td>0.000000</td>\n",
              "      <td>100.000000</td>\n",
              "      <td>63.000000</td>\n",
              "      <td>720.000000</td>\n",
              "      <td>229.000000</td>\n",
              "      <td>670.000000</td>\n",
              "      <td>648.000000</td>\n",
              "      <td>32.000000</td>\n",
              "    </tr>\n",
              "  </tbody>\n",
              "</table>\n",
              "<p>8 rows × 372 columns</p>\n",
              "</div>\n",
              "      <button class=\"colab-df-convert\" onclick=\"convertToInteractive('df-f2103ef4-8e3a-4a63-8671-cf7c5933ff7f')\"\n",
              "              title=\"Convert this dataframe to an interactive table.\"\n",
              "              style=\"display:none;\">\n",
              "        \n",
              "  <svg xmlns=\"http://www.w3.org/2000/svg\" height=\"24px\"viewBox=\"0 0 24 24\"\n",
              "       width=\"24px\">\n",
              "    <path d=\"M0 0h24v24H0V0z\" fill=\"none\"/>\n",
              "    <path d=\"M18.56 5.44l.94 2.06.94-2.06 2.06-.94-2.06-.94-.94-2.06-.94 2.06-2.06.94zm-11 1L8.5 8.5l.94-2.06 2.06-.94-2.06-.94L8.5 2.5l-.94 2.06-2.06.94zm10 10l.94 2.06.94-2.06 2.06-.94-2.06-.94-.94-2.06-.94 2.06-2.06.94z\"/><path d=\"M17.41 7.96l-1.37-1.37c-.4-.4-.92-.59-1.43-.59-.52 0-1.04.2-1.43.59L10.3 9.45l-7.72 7.72c-.78.78-.78 2.05 0 2.83L4 21.41c.39.39.9.59 1.41.59.51 0 1.02-.2 1.41-.59l7.78-7.78 2.81-2.81c.8-.78.8-2.07 0-2.86zM5.41 20L4 18.59l7.72-7.72 1.47 1.35L5.41 20z\"/>\n",
              "  </svg>\n",
              "      </button>\n",
              "      \n",
              "  <style>\n",
              "    .colab-df-container {\n",
              "      display:flex;\n",
              "      flex-wrap:wrap;\n",
              "      gap: 12px;\n",
              "    }\n",
              "\n",
              "    .colab-df-convert {\n",
              "      background-color: #E8F0FE;\n",
              "      border: none;\n",
              "      border-radius: 50%;\n",
              "      cursor: pointer;\n",
              "      display: none;\n",
              "      fill: #1967D2;\n",
              "      height: 32px;\n",
              "      padding: 0 0 0 0;\n",
              "      width: 32px;\n",
              "    }\n",
              "\n",
              "    .colab-df-convert:hover {\n",
              "      background-color: #E2EBFA;\n",
              "      box-shadow: 0px 1px 2px rgba(60, 64, 67, 0.3), 0px 1px 3px 1px rgba(60, 64, 67, 0.15);\n",
              "      fill: #174EA6;\n",
              "    }\n",
              "\n",
              "    [theme=dark] .colab-df-convert {\n",
              "      background-color: #3B4455;\n",
              "      fill: #D2E3FC;\n",
              "    }\n",
              "\n",
              "    [theme=dark] .colab-df-convert:hover {\n",
              "      background-color: #434B5C;\n",
              "      box-shadow: 0px 1px 3px 1px rgba(0, 0, 0, 0.15);\n",
              "      filter: drop-shadow(0px 1px 2px rgba(0, 0, 0, 0.3));\n",
              "      fill: #FFFFFF;\n",
              "    }\n",
              "  </style>\n",
              "\n",
              "      <script>\n",
              "        const buttonEl =\n",
              "          document.querySelector('#df-f2103ef4-8e3a-4a63-8671-cf7c5933ff7f button.colab-df-convert');\n",
              "        buttonEl.style.display =\n",
              "          google.colab.kernel.accessAllowed ? 'block' : 'none';\n",
              "\n",
              "        async function convertToInteractive(key) {\n",
              "          const element = document.querySelector('#df-f2103ef4-8e3a-4a63-8671-cf7c5933ff7f');\n",
              "          const dataTable =\n",
              "            await google.colab.kernel.invokeFunction('convertToInteractive',\n",
              "                                                     [key], {});\n",
              "          if (!dataTable) return;\n",
              "\n",
              "          const docLinkHtml = 'Like what you see? Visit the ' +\n",
              "            '<a target=\"_blank\" href=https://colab.research.google.com/notebooks/data_table.ipynb>data table notebook</a>'\n",
              "            + ' to learn more about interactive tables.';\n",
              "          element.innerHTML = '';\n",
              "          dataTable['output_type'] = 'display_data';\n",
              "          await google.colab.output.renderOutput(dataTable, element);\n",
              "          const docLink = document.createElement('div');\n",
              "          docLink.innerHTML = docLinkHtml;\n",
              "          element.appendChild(docLink);\n",
              "        }\n",
              "      </script>\n",
              "    </div>\n",
              "  </div>\n",
              "  "
            ]
          },
          "metadata": {},
          "execution_count": 24
        }
      ]
    },
    {
      "cell_type": "code",
      "source": [
        "def count(df):\n",
        "    print(df.dtypes.value_counts())\n",
        "count(data)"
      ],
      "metadata": {
        "colab": {
          "base_uri": "https://localhost:8080/"
        },
        "id": "FCjSg9-fydUQ",
        "outputId": "294c7d16-1a1f-4440-96e6-31bfaad1b8ce"
      },
      "execution_count": null,
      "outputs": [
        {
          "output_type": "stream",
          "name": "stdout",
          "text": [
            "float64    369\n",
            "object      25\n",
            "int64        3\n",
            "dtype: int64\n"
          ]
        }
      ]
    },
    {
      "cell_type": "markdown",
      "source": [
        "#Selecting Categorical Features"
      ],
      "metadata": {
        "id": "wybsVaOMrgrj"
      }
    },
    {
      "cell_type": "code",
      "source": [
        "categorical_cols = [col for col in data.columns if data[col].dtypes == 'object']\n",
        "categorical_cols"
      ],
      "metadata": {
        "colab": {
          "base_uri": "https://localhost:8080/"
        },
        "id": "MQE7CgUaid7C",
        "outputId": "06ee0dfe-5ad0-41c9-93db-d39f5ca43472"
      },
      "execution_count": null,
      "outputs": [
        {
          "output_type": "execute_result",
          "data": {
            "text/plain": [
              "['ProductCD',\n",
              " 'card4',\n",
              " 'card6',\n",
              " 'P_emaildomain',\n",
              " 'R_emaildomain',\n",
              " 'M1',\n",
              " 'M2',\n",
              " 'M3',\n",
              " 'M4',\n",
              " 'M5',\n",
              " 'M6',\n",
              " 'id_12',\n",
              " 'id_15',\n",
              " 'id_16',\n",
              " 'id_28',\n",
              " 'id_29',\n",
              " 'id_30',\n",
              " 'id_31',\n",
              " 'id_34',\n",
              " 'id_35',\n",
              " 'id_36',\n",
              " 'id_37',\n",
              " 'id_38',\n",
              " 'DeviceType',\n",
              " 'DeviceInfo']"
            ]
          },
          "metadata": {},
          "execution_count": 26
        }
      ]
    },
    {
      "cell_type": "markdown",
      "source": [
        "#Handling categorical features using ordinal encoder"
      ],
      "metadata": {
        "id": "FOiWAeOisBvG"
      }
    },
    {
      "cell_type": "code",
      "source": [
        "encoder = OrdinalEncoder(handle_unknown='use_encoded_value',unknown_value=-1)\n",
        "encoder.fit(data[categorical_cols])\n",
        "def ohe_new_features(df, features_names, encoder):\n",
        "  new_feats = encoder.transform(df[features_names])\n",
        "  new_cols = pd.DataFrame(new_feats, columns=features_names,dtype=int)\n",
        "  drop_df = df.drop(features_names, axis=1)\n",
        "  new_df = pd.concat([drop_df, new_cols], axis=1)\n",
        "  \n",
        "  gc.collect()\n",
        "  return new_df\n"
      ],
      "metadata": {
        "id": "fs0U2X1wn5Vv"
      },
      "execution_count": null,
      "outputs": []
    },
    {
      "cell_type": "code",
      "source": [
        "train_data=ohe_new_features(data, categorical_cols, encoder)"
      ],
      "metadata": {
        "id": "7nSZCcTXLEEA"
      },
      "execution_count": null,
      "outputs": []
    },
    {
      "cell_type": "code",
      "source": [
        "gc.collect()"
      ],
      "metadata": {
        "colab": {
          "base_uri": "https://localhost:8080/"
        },
        "id": "74D8jXPLLIMI",
        "outputId": "dd8ab616-90d5-449a-8f65-1452a3ba1dc6"
      },
      "execution_count": null,
      "outputs": [
        {
          "output_type": "execute_result",
          "data": {
            "text/plain": [
              "44"
            ]
          },
          "metadata": {},
          "execution_count": 29
        }
      ]
    },
    {
      "cell_type": "code",
      "source": [
        "train_data.shape"
      ],
      "metadata": {
        "colab": {
          "base_uri": "https://localhost:8080/"
        },
        "id": "7DCZwI_B-azX",
        "outputId": "ddc14f38-4c11-4a74-deca-9731475b9f69"
      },
      "execution_count": null,
      "outputs": [
        {
          "output_type": "execute_result",
          "data": {
            "text/plain": [
              "(140000, 397)"
            ]
          },
          "metadata": {},
          "execution_count": 30
        }
      ]
    },
    {
      "cell_type": "markdown",
      "source": [
        "#scaling the data using standard scaler"
      ],
      "metadata": {
        "id": "1VOAuPg1sGeI"
      }
    },
    {
      "cell_type": "code",
      "source": [
        "y= train_data['isFraud']\n",
        "train_data=train_data.drop('isFraud',axis=1)\n"
      ],
      "metadata": {
        "id": "PV0B_QW9--z2"
      },
      "execution_count": null,
      "outputs": []
    },
    {
      "cell_type": "code",
      "source": [
        "train_data.shape"
      ],
      "metadata": {
        "colab": {
          "base_uri": "https://localhost:8080/"
        },
        "id": "vePVhnShBEXZ",
        "outputId": "91d6b2e4-2281-4fc8-8872-9c8b0dce5fd5"
      },
      "execution_count": null,
      "outputs": [
        {
          "output_type": "execute_result",
          "data": {
            "text/plain": [
              "(140000, 396)"
            ]
          },
          "metadata": {},
          "execution_count": 32
        }
      ]
    },
    {
      "cell_type": "code",
      "source": [
        "df_clear = train_data.notna().astype(\"int\").to_numpy()\n",
        "mask = train_data.fillna(0)\n"
      ],
      "metadata": {
        "id": "hN1gCjj78rkl"
      },
      "execution_count": null,
      "outputs": []
    },
    {
      "cell_type": "code",
      "source": [
        "\n",
        "sc = StandardScaler()\n",
        "mask = sc.fit_transform(mask.to_numpy())"
      ],
      "metadata": {
        "id": "-omSbGoo9TD1"
      },
      "execution_count": null,
      "outputs": []
    },
    {
      "cell_type": "code",
      "source": [
        "data = np.hstack([mask, df_clear])\n",
        "data.shape"
      ],
      "metadata": {
        "colab": {
          "base_uri": "https://localhost:8080/"
        },
        "id": "T3PsWdOR9e5k",
        "outputId": "ce1d2f4a-2baa-4478-d29f-9b7d1a2c1aa5"
      },
      "execution_count": null,
      "outputs": [
        {
          "output_type": "execute_result",
          "data": {
            "text/plain": [
              "(140000, 792)"
            ]
          },
          "metadata": {},
          "execution_count": 35
        }
      ]
    },
    {
      "cell_type": "markdown",
      "source": [
        "#splitting the data"
      ],
      "metadata": {
        "id": "G-tv1Uf_toJr"
      }
    },
    {
      "cell_type": "code",
      "source": [
        "#split the data\n",
        "X_train, X_test, y_train, y_test= train_test_split(data,y,test_size=0.20, random_state=42)\n",
        "print(X_train.shape)\n",
        "print(X_test.shape)"
      ],
      "metadata": {
        "colab": {
          "base_uri": "https://localhost:8080/"
        },
        "id": "G73WxYtDttJf",
        "outputId": "b25daf8a-106e-45fd-b496-9a7e32c05ae4"
      },
      "execution_count": null,
      "outputs": [
        {
          "output_type": "stream",
          "name": "stdout",
          "text": [
            "(112000, 792)\n",
            "(28000, 792)\n"
          ]
        }
      ]
    },
    {
      "cell_type": "markdown",
      "source": [
        "#Autoecoders"
      ],
      "metadata": {
        "id": "HJpSpBQRj-Ia"
      }
    },
    {
      "cell_type": "code",
      "source": [
        "import torch\n",
        "import torch.nn as nn\n",
        "import torch.optim as optim\n",
        "from torchsummary import summary\n",
        "from torch.utils.data import TensorDataset, DataLoader\n",
        "import torch.nn.functional as F\n",
        "from torchvision import datasets, transforms\n",
        "from torch.utils.data import DataLoader, Dataset\n",
        "\n",
        "device = torch.device(\"cuda:0\" if torch.cuda.is_available() else \"cpu\")"
      ],
      "metadata": {
        "id": "WaOCFWj2uJJ-"
      },
      "execution_count": null,
      "outputs": []
    },
    {
      "cell_type": "markdown",
      "source": [
        "#1)Udercomplete"
      ],
      "metadata": {
        "id": "EcNOjlZskIVg"
      }
    },
    {
      "cell_type": "code",
      "source": [
        "class autoencoder(nn.Module):\n",
        "    def __init__(self, input_size, latent_dim):\n",
        "      super(autoencoder, self).__init__()\n",
        "      # Step 1 : Define the encoder \n",
        "      # Step 2 : Define the decoder\n",
        "      # Step 3 : Initialize the weights (optional)\n",
        "      self.encoder = nn.Sequential(\n",
        "          nn.Linear(input_size, input_size//2),\n",
        "          nn.ReLU(True),\n",
        "          nn.Linear(input_size//2, input_size//3),\n",
        "          nn.Linear(input_size//3, input_size//4),\n",
        "          nn.Tanh(),\n",
        "          nn.Linear(input_size//4, latent_dim)\n",
        "      )\n",
        "      self.decoder = nn.Sequential(\n",
        "          nn.Linear(latent_dim, input_size//4),\n",
        "          nn.ReLU(True),\n",
        "          nn.Linear(input_size//4, input_size//3),\n",
        "          nn.Tanh(),\n",
        "          nn.Linear(input_size//3, input_size//2)\n",
        "      )\n",
        "      self.encoder.apply(self.__init_weights)\n",
        "      self.decoder.apply(self.__init_weights)\n",
        "        \n",
        "    def forward(self, x):\n",
        "      # Step 1: Pass the input through encoder to get latent representation\n",
        "      # Step 2: Take latent representation and pass through decoder\n",
        "      x = self.encoder(x)\n",
        "      x = self.decoder(x)\n",
        "      return x\n",
        "        \n",
        "    \n",
        "    def encode(self,input):\n",
        "      #Step 1: Pass the input through the encoder to get latent representation\n",
        "      return self.encoder(input)\n",
        "    \n",
        "    def decode(self, input):\n",
        "      return self.decoder(input)\n",
        "    \n",
        "    def __init_weights(self,m):\n",
        "      #Init the weights (optional)\n",
        "      if type(m) == nn.Linear:\n",
        "        torch.nn.init.xavier_uniform_(m.weight)\n",
        "        m.bias.data.fill_(0.01)"
      ],
      "metadata": {
        "id": "BXRUUiAskPIL"
      },
      "execution_count": null,
      "outputs": []
    },
    {
      "cell_type": "code",
      "source": [
        "gc.collect()"
      ],
      "metadata": {
        "colab": {
          "base_uri": "https://localhost:8080/"
        },
        "id": "CL5egrGECF98",
        "outputId": "ad229116-8665-4f39-86c6-abaa3a3d922d"
      },
      "execution_count": null,
      "outputs": [
        {
          "output_type": "execute_result",
          "data": {
            "text/plain": [
              "141"
            ]
          },
          "metadata": {},
          "execution_count": 39
        }
      ]
    },
    {
      "cell_type": "code",
      "source": [
        "del data_transaction\n",
        "del data_identity\n",
        "del train_data"
      ],
      "metadata": {
        "id": "u67GGZy_CIjc"
      },
      "execution_count": null,
      "outputs": []
    },
    {
      "cell_type": "code",
      "source": [
        "#######Define training parameters##################\n",
        "data_size=data.shape[1]\n",
        "batchSize = 512\n",
        "learning_rate = 0.001\n",
        "num_epochs = 30\n",
        "latent_size = 50\n",
        "AE = autoencoder(data_size , latent_size).to(device)\n",
        "print(AE)\n",
        "criterion = nn.MSELoss()\n",
        "optimizer = torch.optim.Adam(AE.parameters(),lr=learning_rate)\n",
        "X_train = torch.Tensor(X_train)\n",
        "X_test = torch.Tensor(X_test)\n",
        "y_train = torch.tensor(y_train.to_numpy(), dtype=torch.int64)\n",
        "y_test = torch.tensor(y_test.to_numpy(), dtype=torch.int64)\n",
        "train_set=TensorDataset(X_train, y_train)\n",
        "test_set=TensorDataset(X_test, y_test)\n",
        "\n",
        "trainloader = DataLoader(train_set, batch_size=batchSize, shuffle=True)\n",
        "testloader = DataLoader(test_set, batch_size=batchSize, shuffle=True)\n"
      ],
      "metadata": {
        "colab": {
          "base_uri": "https://localhost:8080/"
        },
        "id": "BixkCYfkmqyu",
        "outputId": "d119dd43-7d83-47a8-9877-869952d724b4"
      },
      "execution_count": null,
      "outputs": [
        {
          "output_type": "stream",
          "name": "stdout",
          "text": [
            "autoencoder(\n",
            "  (encoder): Sequential(\n",
            "    (0): Linear(in_features=792, out_features=396, bias=True)\n",
            "    (1): ReLU(inplace=True)\n",
            "    (2): Linear(in_features=396, out_features=264, bias=True)\n",
            "    (3): Linear(in_features=264, out_features=198, bias=True)\n",
            "    (4): Tanh()\n",
            "    (5): Linear(in_features=198, out_features=50, bias=True)\n",
            "  )\n",
            "  (decoder): Sequential(\n",
            "    (0): Linear(in_features=50, out_features=198, bias=True)\n",
            "    (1): ReLU(inplace=True)\n",
            "    (2): Linear(in_features=198, out_features=264, bias=True)\n",
            "    (3): Tanh()\n",
            "    (4): Linear(in_features=264, out_features=396, bias=True)\n",
            "  )\n",
            ")\n"
          ]
        }
      ]
    },
    {
      "cell_type": "code",
      "source": [
        "#Trainning the Autoencoder\n",
        "I=data_size//2\n",
        "for epoch in range(num_epochs):\n",
        "  epoch_loss = 0.0\n",
        "  for X in trainloader:\n",
        "    X = X[0].to(device)\n",
        "    optimizer.zero_grad()\n",
        "    # forward\n",
        "    output = AE(X)\n",
        "    loss = criterion(output * X[:, I:], X[:, :I])\n",
        "    # backward\n",
        "    loss.backward()\n",
        "    optimizer.step()\n",
        "\n",
        "    epoch_loss += loss.item()\n",
        "  # log\n",
        "  print('epoch [{}/{}], train_loss:{:.4f}'.format(epoch + 1, num_epochs, epoch_loss / len(trainloader)))"
      ],
      "metadata": {
        "colab": {
          "base_uri": "https://localhost:8080/"
        },
        "id": "ibFfAHWrwFn4",
        "outputId": "6da62256-8ab0-4e3e-e04e-81a9c81126f8"
      },
      "execution_count": null,
      "outputs": [
        {
          "output_type": "stream",
          "name": "stdout",
          "text": [
            "epoch [1/30], train_loss:0.4361\n",
            "epoch [2/30], train_loss:0.2820\n",
            "epoch [3/30], train_loss:0.2443\n",
            "epoch [4/30], train_loss:0.2241\n",
            "epoch [5/30], train_loss:0.2113\n",
            "epoch [6/30], train_loss:0.2004\n",
            "epoch [7/30], train_loss:0.1957\n",
            "epoch [8/30], train_loss:0.1907\n",
            "epoch [9/30], train_loss:0.1881\n",
            "epoch [10/30], train_loss:0.1862\n",
            "epoch [11/30], train_loss:0.1816\n",
            "epoch [12/30], train_loss:0.1794\n",
            "epoch [13/30], train_loss:0.1746\n",
            "epoch [14/30], train_loss:0.1697\n",
            "epoch [15/30], train_loss:0.1664\n",
            "epoch [16/30], train_loss:0.1668\n",
            "epoch [17/30], train_loss:0.1648\n",
            "epoch [18/30], train_loss:0.1630\n",
            "epoch [19/30], train_loss:0.1654\n",
            "epoch [20/30], train_loss:0.1680\n",
            "epoch [21/30], train_loss:0.1730\n",
            "epoch [22/30], train_loss:0.1743\n",
            "epoch [23/30], train_loss:0.1723\n",
            "epoch [24/30], train_loss:0.1731\n",
            "epoch [25/30], train_loss:0.1738\n",
            "epoch [26/30], train_loss:0.1703\n",
            "epoch [27/30], train_loss:0.1710\n",
            "epoch [28/30], train_loss:0.1667\n",
            "epoch [29/30], train_loss:0.1601\n",
            "epoch [30/30], train_loss:0.1586\n"
          ]
        }
      ]
    },
    {
      "cell_type": "code",
      "source": [
        "# Test \n",
        "d = AE.state_dict()\n",
        "for epoch in range(num_epochs):\n",
        "  with torch.no_grad():\n",
        "    loss = 0\n",
        "    for X in testloader:\n",
        "      X = X[0].to(device)\n",
        "      output = AE(X)\n",
        "      loss += criterion(output * X[:, I:], X[:, :I]).item()\n",
        "    if epoch==0:\n",
        "      loss_prev=loss / len(testloader)\n",
        "    else:\n",
        "      loss_prev = loss_curr\n",
        "    loss_curr=loss / len(testloader)\n",
        "    if loss_curr > loss_prev:\n",
        "        d = AE.state_dict()\n",
        "        min_loss_undercomplete=loss_prev\n",
        "        break\n",
        "    else: \n",
        "        AE.load_state_dict(d)\n",
        "    print('epoch [{}/{}], test_loss:{:.4f}'.format(epoch + 1, num_epochs, loss_curr ))"
      ],
      "metadata": {
        "colab": {
          "base_uri": "https://localhost:8080/"
        },
        "id": "rvJOCdKQ5x7K",
        "outputId": "c061dab2-58d5-4b9b-fc7a-891b118f6fe8"
      },
      "execution_count": null,
      "outputs": [
        {
          "output_type": "stream",
          "name": "stdout",
          "text": [
            "epoch [1/30], test_loss:0.2814\n"
          ]
        }
      ]
    },
    {
      "cell_type": "markdown",
      "source": [
        "#2)Regularized "
      ],
      "metadata": {
        "id": "zldleUc_J0M2"
      }
    },
    {
      "cell_type": "code",
      "source": [
        "def regularized_loss(data):\n",
        "    AE_children = list(AE.children())\n",
        "    l = 0\n",
        "    v = data\n",
        "    for x in range(len(AE_children)):\n",
        "        v = F.relu((AE_children[x](v)))\n",
        "        l += torch.mean(torch.abs(v))\n",
        "    return l"
      ],
      "metadata": {
        "id": "__uYUVAIn-su"
      },
      "execution_count": null,
      "outputs": []
    },
    {
      "cell_type": "code",
      "source": [
        "# Training the autoencoder\n",
        "for epoch in range(num_epochs):\n",
        "  epoch_loss = 0.0\n",
        "  for X in trainloader:\n",
        "    X = X[0].to(device)\n",
        "    optimizer.zero_grad()\n",
        "    # forward\n",
        "    output = AE(X)\n",
        "    loss = criterion(output * X[:, I:], X[:, :I])\n",
        "    l1_loss = regularized_loss(X)\n",
        "    loss = loss +  l1_loss\n",
        "    # backward\n",
        "    loss.backward()\n",
        "    optimizer.step()\n",
        "    epoch_loss += loss.item()\n",
        "  # log\n",
        "  print('epoch [{}/{}], train_loss:{:.4f}'.format(epoch + 1, num_epochs, epoch_loss / len(trainloader)))"
      ],
      "metadata": {
        "colab": {
          "base_uri": "https://localhost:8080/"
        },
        "id": "n65Q1bH_n6Zj",
        "outputId": "b0495923-4c55-4c3a-b4ce-8604dc0dc092"
      },
      "execution_count": null,
      "outputs": [
        {
          "output_type": "stream",
          "name": "stdout",
          "text": [
            "epoch [1/30], train_loss:0.2851\n",
            "epoch [2/30], train_loss:0.1913\n",
            "epoch [3/30], train_loss:0.1934\n",
            "epoch [4/30], train_loss:0.1802\n",
            "epoch [5/30], train_loss:0.1716\n",
            "epoch [6/30], train_loss:0.1764\n",
            "epoch [7/30], train_loss:0.1714\n",
            "epoch [8/30], train_loss:0.1676\n",
            "epoch [9/30], train_loss:0.1648\n",
            "epoch [10/30], train_loss:0.1604\n",
            "epoch [11/30], train_loss:0.1623\n",
            "epoch [12/30], train_loss:0.1608\n",
            "epoch [13/30], train_loss:0.1584\n",
            "epoch [14/30], train_loss:0.1565\n",
            "epoch [15/30], train_loss:0.1555\n",
            "epoch [16/30], train_loss:0.1550\n",
            "epoch [17/30], train_loss:0.1646\n",
            "epoch [18/30], train_loss:0.1717\n",
            "epoch [19/30], train_loss:0.1638\n",
            "epoch [20/30], train_loss:0.1627\n",
            "epoch [21/30], train_loss:0.1583\n",
            "epoch [22/30], train_loss:0.1604\n",
            "epoch [23/30], train_loss:0.1571\n",
            "epoch [24/30], train_loss:0.1553\n",
            "epoch [25/30], train_loss:0.1714\n",
            "epoch [26/30], train_loss:0.1630\n",
            "epoch [27/30], train_loss:0.1706\n",
            "epoch [28/30], train_loss:0.1775\n",
            "epoch [29/30], train_loss:0.1660\n",
            "epoch [30/30], train_loss:0.1639\n"
          ]
        }
      ]
    },
    {
      "cell_type": "code",
      "source": [
        "# Testing autoencoders\n",
        "for epoch in range(num_epochs):\n",
        "  with torch.no_grad():\n",
        "    loss = 0\n",
        "    for X in testloader:\n",
        "      X = X[0].to(device)\n",
        "      \n",
        "      output = AE(X)\n",
        "      loss += criterion(output * X[:, I:], X[:, :I]).item()\n",
        "    if epoch==0:\n",
        "      loss_prev=loss / len(testloader)\n",
        "    else:\n",
        "      loss_prev = loss_curr\n",
        "    loss_curr=loss / len(testloader)\n",
        "    if loss_curr > loss_prev:\n",
        "      min_loss_regularized=loss_prev\n",
        "      break\n",
        "    print('epoch [{}/{}], test_loss:{:.4f}'.format(epoch + 1, num_epochs, loss / len(testloader)))\n",
        "    "
      ],
      "metadata": {
        "colab": {
          "base_uri": "https://localhost:8080/"
        },
        "id": "DY308FP8KiWv",
        "outputId": "5947393d-c0d7-4e8f-b526-9bfc6743a70a"
      },
      "execution_count": null,
      "outputs": [
        {
          "output_type": "stream",
          "name": "stdout",
          "text": [
            "epoch [1/30], test_loss:0.2715\n",
            "epoch [2/30], test_loss:0.2711\n"
          ]
        }
      ]
    },
    {
      "cell_type": "markdown",
      "source": [
        "#3)Variational"
      ],
      "metadata": {
        "id": "c2f2eyyhM_Z8"
      }
    },
    {
      "cell_type": "code",
      "source": [
        "class VAE(nn.Module):\n",
        "    def __init__(self, input_dim= data.shape[1], h_dim= 396, z_dim=5):\n",
        "        super(VAE, self).__init__()\n",
        "        self.fc1 = nn.Linear(input_dim, h_dim)\n",
        "        self.fc2 = nn.Linear(h_dim, z_dim)\n",
        "        self.fc3 = nn.Linear(h_dim, z_dim)\n",
        "        self.fc4 = nn.Linear(z_dim, h_dim)\n",
        "        self.fc5 = nn.Linear(h_dim, input_dim//2)\n",
        "        \n",
        "    def encode(self, x):\n",
        "        h = F.relu(self.fc1(x))\n",
        "        return self.fc2(h), self.fc3(h)\n",
        "    \n",
        "    def reparameterize(self, mu, log_var):\n",
        "        std = torch.exp(log_var/2)\n",
        "        eps = torch.randn_like(std)\n",
        "        return mu + eps * std\n",
        "\n",
        "    def decode(self, z):\n",
        "        h = F.relu(self.fc4(z))\n",
        "        return self.fc5(h)\n",
        "    \n",
        "    def forward(self, x):\n",
        "        mu, log_var = self.encode(x)\n",
        "        z = self.reparameterize(mu, log_var)\n",
        "        x_reconst = self.decode(z)\n",
        "        return x_reconst, mu, log_var\n",
        "\n",
        "model = VAE().to(device)\n",
        "model"
      ],
      "metadata": {
        "colab": {
          "base_uri": "https://localhost:8080/"
        },
        "id": "RsESzDs8M-VJ",
        "outputId": "d219e33c-55f4-485a-ea8b-d911fccb7179"
      },
      "execution_count": null,
      "outputs": [
        {
          "output_type": "execute_result",
          "data": {
            "text/plain": [
              "VAE(\n",
              "  (fc1): Linear(in_features=792, out_features=396, bias=True)\n",
              "  (fc2): Linear(in_features=396, out_features=5, bias=True)\n",
              "  (fc3): Linear(in_features=396, out_features=5, bias=True)\n",
              "  (fc4): Linear(in_features=5, out_features=396, bias=True)\n",
              "  (fc5): Linear(in_features=396, out_features=396, bias=True)\n",
              ")"
            ]
          },
          "metadata": {},
          "execution_count": 47
        }
      ]
    },
    {
      "cell_type": "code",
      "source": [
        "# Training autoencoders\n",
        "for epoch in range(num_epochs):\n",
        "  epoch_loss = 0.0\n",
        "  for X in trainloader:\n",
        "    X = X[0].to(device)\n",
        "    optimizer.zero_grad()\n",
        "    # forward\n",
        "    x_reconst, mu, log_var = model(X)\n",
        "    loss = criterion(x_reconst*X[:, I:], X[:, :I])\n",
        "    kl_div = - 0.5 * torch.sum(1 + log_var - mu.pow(2) - log_var.exp())\n",
        "    loss += kl_div\n",
        "    # backward\n",
        "    loss.backward()\n",
        "    optimizer.step()\n",
        "\n",
        "    epoch_loss += loss.item()\n",
        "  # log\n",
        "  print('epoch [{}/{}], train_loss:{:.4f}'.format(epoch + 1, num_epochs, loss.item()))"
      ],
      "metadata": {
        "colab": {
          "base_uri": "https://localhost:8080/"
        },
        "id": "Ri_sROpoM-dd",
        "outputId": "cd127712-8c88-4ede-d972-8cb76c313e83"
      },
      "execution_count": null,
      "outputs": [
        {
          "output_type": "stream",
          "name": "stdout",
          "text": [
            "epoch [1/30], train_loss:66.6191\n",
            "epoch [2/30], train_loss:54.5596\n",
            "epoch [3/30], train_loss:53.4700\n",
            "epoch [4/30], train_loss:47.2396\n",
            "epoch [5/30], train_loss:37.6805\n",
            "epoch [6/30], train_loss:40.0023\n",
            "epoch [7/30], train_loss:47.6525\n",
            "epoch [8/30], train_loss:59.1487\n",
            "epoch [9/30], train_loss:57.9444\n",
            "epoch [10/30], train_loss:45.4188\n",
            "epoch [11/30], train_loss:53.0318\n",
            "epoch [12/30], train_loss:38.6947\n",
            "epoch [13/30], train_loss:50.6608\n",
            "epoch [14/30], train_loss:62.4492\n",
            "epoch [15/30], train_loss:54.3117\n",
            "epoch [16/30], train_loss:49.2831\n",
            "epoch [17/30], train_loss:46.5504\n",
            "epoch [18/30], train_loss:37.2336\n",
            "epoch [19/30], train_loss:68.8672\n",
            "epoch [20/30], train_loss:71.9296\n",
            "epoch [21/30], train_loss:47.5804\n",
            "epoch [22/30], train_loss:43.8044\n",
            "epoch [23/30], train_loss:47.4575\n",
            "epoch [24/30], train_loss:57.2469\n",
            "epoch [25/30], train_loss:38.1688\n",
            "epoch [26/30], train_loss:46.3330\n",
            "epoch [27/30], train_loss:38.3917\n",
            "epoch [28/30], train_loss:41.1947\n",
            "epoch [29/30], train_loss:48.3989\n",
            "epoch [30/30], train_loss:41.3975\n"
          ]
        }
      ]
    },
    {
      "cell_type": "code",
      "source": [
        "# Testing autoencoders\n",
        "for epoch in range(num_epochs):\n",
        "  with torch.no_grad():\n",
        "    loss = 0\n",
        "    for X in testloader:\n",
        "      X = X[0].to(device)\n",
        "      \n",
        "      x_reconst, mu, log_var = model(X)\n",
        "      loss += criterion(x_reconst * X[:, I:], X[:, :I]).item()\n",
        "    if epoch==0:\n",
        "      loss_prev=loss / len(testloader)\n",
        "    else:\n",
        "      loss_prev = loss_curr\n",
        "    loss_curr=loss / len(testloader)\n",
        "    if loss_curr > loss_prev:\n",
        "      min_loss_variational=loss_prev\n",
        "      break\n",
        "    print('epoch [{}/{}], test_loss:{:.4f}'.format(epoch + 1, num_epochs, loss / len(testloader)))\n"
      ],
      "metadata": {
        "colab": {
          "base_uri": "https://localhost:8080/"
        },
        "id": "VlcKpaEOOH5B",
        "outputId": "fd39cca1-2a1a-4f45-bfef-4aed7b5fc0b4"
      },
      "execution_count": null,
      "outputs": [
        {
          "output_type": "stream",
          "name": "stdout",
          "text": [
            "epoch [1/30], test_loss:1.1430\n",
            "epoch [2/30], test_loss:1.1413\n",
            "epoch [3/30], test_loss:1.1401\n"
          ]
        }
      ]
    },
    {
      "cell_type": "markdown",
      "source": [
        "#the best performace for each autoencoder"
      ],
      "metadata": {
        "id": "iWmaQl3XPZKD"
      }
    },
    {
      "cell_type": "code",
      "source": [
        "print('the best loss for undercomplete autoencoder: ', min_loss_undercomplete)\n",
        "print('the best loss for regularized autoencoder: ', min_loss_regularized)\n",
        "print('the best loss for Variational autoencoder: ', min_loss_variational)"
      ],
      "metadata": {
        "colab": {
          "base_uri": "https://localhost:8080/"
        },
        "id": "1gwz-wcvPTfk",
        "outputId": "2b9646ef-f947-449a-ad75-b4e12db9a25e"
      },
      "execution_count": null,
      "outputs": [
        {
          "output_type": "stream",
          "name": "stdout",
          "text": [
            "the best loss for undercomplete autoencoder:  0.2813614720647985\n",
            "the best loss for regularized autoencoder:  0.2711437940597534\n",
            "the best loss for Variational autoencoder:  1.1400918180292303\n"
          ]
        }
      ]
    },
    {
      "cell_type": "markdown",
      "source": [
        "#the best loss by using regularized autoencoder:  0.2711437940597534"
      ],
      "metadata": {
        "id": "Lmtuc6pFQMPF"
      }
    },
    {
      "cell_type": "markdown",
      "source": [
        "#Compare with statistical approach"
      ],
      "metadata": {
        "id": "hcGf0zguRW80"
      }
    },
    {
      "cell_type": "code",
      "source": [
        "model = autoencoder(data_size , latent_size).to(device)\n",
        "model.eval()"
      ],
      "metadata": {
        "colab": {
          "base_uri": "https://localhost:8080/"
        },
        "id": "97lV1n0PQK5m",
        "outputId": "43d499fb-7353-4d2c-e428-db2a4bf7fcef"
      },
      "execution_count": null,
      "outputs": [
        {
          "output_type": "execute_result",
          "data": {
            "text/plain": [
              "autoencoder(\n",
              "  (encoder): Sequential(\n",
              "    (0): Linear(in_features=792, out_features=396, bias=True)\n",
              "    (1): ReLU(inplace=True)\n",
              "    (2): Linear(in_features=396, out_features=264, bias=True)\n",
              "    (3): Linear(in_features=264, out_features=198, bias=True)\n",
              "    (4): Tanh()\n",
              "    (5): Linear(in_features=198, out_features=50, bias=True)\n",
              "  )\n",
              "  (decoder): Sequential(\n",
              "    (0): Linear(in_features=50, out_features=198, bias=True)\n",
              "    (1): ReLU(inplace=True)\n",
              "    (2): Linear(in_features=198, out_features=264, bias=True)\n",
              "    (3): Tanh()\n",
              "    (4): Linear(in_features=264, out_features=396, bias=True)\n",
              "  )\n",
              ")"
            ]
          },
          "metadata": {},
          "execution_count": 51
        }
      ]
    },
    {
      "cell_type": "code",
      "source": [
        "def load_data(data, model):\n",
        "  X_data=[]\n",
        "  y_data =[]\n",
        "  for x, y in trainloader:\n",
        "      x = x.to(device)\n",
        "      X_data.append(model(x).cpu().detach().numpy())\n",
        "      y_data.append(y.cpu().detach().numpy())\n",
        "  X_data = np.concatenate(X_data,  axis=0)\n",
        "  y_data = np.concatenate(y_data,  axis=0)\n",
        "  return X_data, y_data\n",
        "\n",
        "X_train, y_train = load_data(trainloader, model )\n",
        "X_test, y_test = load_data(trainloader, model )"
      ],
      "metadata": {
        "id": "dCuAMHzCRkmm"
      },
      "execution_count": null,
      "outputs": []
    },
    {
      "cell_type": "code",
      "source": [
        "from sklearn.ensemble import RandomForestClassifier\n",
        "from sklearn.metrics import classification_report\n"
      ],
      "metadata": {
        "id": "c5rLsWeJSpYA"
      },
      "execution_count": null,
      "outputs": []
    },
    {
      "cell_type": "code",
      "source": [
        "clf = RandomForestClassifier(max_depth=25)\n",
        "clf.fit(X_train,y_train)\n",
        "y_pred = clf.predict(X_test)\n",
        "print(classification_report(y_test, y_pred))"
      ],
      "metadata": {
        "colab": {
          "base_uri": "https://localhost:8080/"
        },
        "id": "6E4hX9KOvwdt",
        "outputId": "7b0be35f-6dc7-416e-a231-151032dfe9ea"
      },
      "execution_count": null,
      "outputs": [
        {
          "output_type": "stream",
          "name": "stdout",
          "text": [
            "\n",
            "                      precision    recall  f1-score   support\n",
            "\n",
            "                           1.00      1.00      1.00     55905\n",
            "                   0       0.99      1.00      0.99     54600\n",
            "                   1       1.00      0.46      0.63      1495\n",
            "\n",
            "            accuracy                           0.99    112000\n",
            "           macro avg       1.00      0.82      0.87    112000\n",
            "        weighted avg       0.99      0.99      0.99    112000\n",
            "\n"
          ]
        }
      ]
    },
    {
      "cell_type": "markdown",
      "source": [
        "#PCA"
      ],
      "metadata": {
        "id": "_l1UV6bVVXfb"
      }
    },
    {
      "cell_type": "code",
      "source": [
        "def plot_explained_variance(X):\n",
        "    #Calculating Eigenvecors and eigenvalues of Covariance matrix\n",
        "    mean_vec = np.mean(X, axis=0)\n",
        "    cov_mat = np.cov(X.T)\n",
        "    eig_vals, eig_vecs = np.linalg.eig(cov_mat)\n",
        "    # Create a list of (eigenvalue, eigenvector) tuples\n",
        "    eig_pairs = [ (np.abs(eig_vals[i]),eig_vecs[:,i]) for i in range(len(eig_vals))]\n",
        "\n",
        "    # Sort from high to low\n",
        "    eig_pairs.sort(key = lambda x: x[0], reverse= True)\n",
        "\n",
        "    # Calculation of Explained Variance from the eigenvalues\n",
        "    tot = sum(eig_vals)\n",
        "    var_exp = [(i/tot)*100 for i in sorted(eig_vals, reverse=True)] # Individual explained variance\n",
        "    cum_var_exp = np.cumsum(var_exp) # Cumulative explained variance\n",
        "    plt.figure(figsize=(10, 5))\n",
        "    plt.bar(range(len(var_exp)), var_exp, alpha=0.3333, align='center', label='individual explained variance', color = 'g')\n",
        "    plt.step(range(len(cum_var_exp)), cum_var_exp, where='mid',label='cumulative explained variance')\n",
        "    plt.ylabel('Explained variance ratio')\n",
        "    plt.xlabel('Principal components')\n",
        "    plt.legend(loc='best')"
      ],
      "metadata": {
        "id": "TZHBJ5CfWwEc"
      },
      "execution_count": null,
      "outputs": []
    },
    {
      "cell_type": "code",
      "source": [
        "X_std = StandardScaler().fit_transform(X_train)\n",
        "plot_explained_variance(X_std)"
      ],
      "metadata": {
        "colab": {
          "base_uri": "https://localhost:8080/",
          "height": 438
        },
        "id": "VTt4IAT9Wz_v",
        "outputId": "9eeb6b06-a93f-42d5-e41a-084c36c45823"
      },
      "execution_count": null,
      "outputs": [
        {
          "output_type": "stream",
          "name": "stderr",
          "text": [
            "/usr/local/lib/python3.7/dist-packages/matplotlib/transforms.py:789: ComplexWarning: Casting complex values to real discards the imaginary part\n",
            "  points = np.array(args, dtype=float).reshape(2, 2)\n",
            "/usr/local/lib/python3.7/dist-packages/matplotlib/cbook/__init__.py:1317: ComplexWarning: Casting complex values to real discards the imaginary part\n",
            "  return np.asarray(x, float)\n",
            "/usr/local/lib/python3.7/dist-packages/matplotlib/transforms.py:789: ComplexWarning: Casting complex values to real discards the imaginary part\n",
            "  points = np.array(args, dtype=float).reshape(2, 2)\n"
          ]
        },
        {
          "output_type": "display_data",
          "data": {
            "text/plain": [
              "<Figure size 720x360 with 1 Axes>"
            ],
            "image/png": "[encoded data removed]"
          },
          "metadata": {
            "needs_background": "light"
          }
        }
      ]
    },
    {
      "cell_type": "code",
      "source": [
        "#PCA\n",
        "from sklearn.decomposition import PCA\n"
      ],
      "metadata": {
        "id": "U17eGGtzWUl9"
      },
      "execution_count": null,
      "outputs": []
    },
    {
      "cell_type": "code",
      "source": [
        "\n",
        "pca = PCA(150)\n",
        "pca.fit(X_train)"
      ],
      "metadata": {
        "colab": {
          "base_uri": "https://localhost:8080/"
        },
        "id": "opFMLocZMai8",
        "outputId": "e90a77f5-702f-4dac-99d2-2a0b989ea702"
      },
      "execution_count": null,
      "outputs": [
        {
          "output_type": "execute_result",
          "data": {
            "text/plain": [
              "PCA(n_components=150)"
            ]
          },
          "metadata": {},
          "execution_count": 60
        }
      ]
    },
    {
      "cell_type": "code",
      "source": [
        "X_train_reduced_pca=pca.transform(X_train)\n"
      ],
      "metadata": {
        "id": "ulX-VC22KitA"
      },
      "execution_count": null,
      "outputs": []
    },
    {
      "cell_type": "code",
      "source": [
        "X_test_reduced_pca=pca.transform(X_test)"
      ],
      "metadata": {
        "id": "OKJPum36cPAJ"
      },
      "execution_count": null,
      "outputs": []
    },
    {
      "cell_type": "code",
      "source": [
        "clf = RandomForestClassifier(max_depth=25)\n",
        "clf.fit(X_train_reduced_pca,y_train)\n",
        "y_pred = clf.predict(X_test_reduced_pca)\n",
        "print(classification_report(y_test, y_pred))"
      ],
      "metadata": {
        "colab": {
          "base_uri": "https://localhost:8080/"
        },
        "id": "Y-3zXrPgoCIg",
        "outputId": "88d5028c-1a84-459d-8c48-77e7a7a29480"
      },
      "execution_count": null,
      "outputs": [
        {
          "output_type": "stream",
          "name": "stdout",
          "text": [
            "\n",
            "                      precision    recall  f1-score   support\n",
            "\n",
            "                           1.00      1.00      1.00     55905\n",
            "                   0       0.99      1.00      1.00     54600\n",
            "                   1       1.00      0.67      0.80      1495\n",
            "\n",
            "            accuracy                           1.00    112000\n",
            "           macro avg       1.00      0.89      0.93    112000\n",
            "        weighted avg       1.00      1.00      1.00    112000\n",
            "\n",
            "\n"
          ]
        }
      ]
    },
    {
      "cell_type": "markdown",
      "source": [
        "#LDA"
      ],
      "metadata": {
        "id": "gXEs5FUCXQxJ"
      }
    },
    {
      "cell_type": "code",
      "source": [
        "from sklearn.discriminant_analysis import LinearDiscriminantAnalysis\n",
        "lda = LinearDiscriminantAnalysis()\n",
        "lda.fit(X_train, y_train)"
      ],
      "metadata": {
        "colab": {
          "base_uri": "https://localhost:8080/"
        },
        "id": "-kX5SvquXQC0",
        "outputId": "e555ba63-0591-4082-ac22-4aaee286b343"
      },
      "execution_count": null,
      "outputs": [
        {
          "output_type": "execute_result",
          "data": {
            "text/plain": [
              "LinearDiscriminantAnalysis()"
            ]
          },
          "metadata": {},
          "execution_count": 65
        }
      ]
    },
    {
      "cell_type": "code",
      "source": [
        "X_train_reduced_lda=lda.transform(X_train)\n",
        "X_test_reduced_lda=lda.transform(X_test)\n"
      ],
      "metadata": {
        "id": "ZjOk37dfY_pS"
      },
      "execution_count": null,
      "outputs": []
    },
    {
      "cell_type": "code",
      "source": [
        "clf = RandomForestClassifier(max_depth=25)\n",
        "clf.fit(X_train_reduced_lda,y_train)\n",
        "y_pred = clf.predict(X_test_reduced_lda)\n",
        "print(classification_report(y_test, y_pred))"
      ],
      "metadata": {
        "colab": {
          "base_uri": "https://localhost:8080/"
        },
        "id": "JYHyOrdwYHBh",
        "outputId": "e8a9f9b4-01e2-4873-b11d-1d71933e0998"
      },
      "execution_count": null,
      "outputs": [
        {
          "output_type": "stream",
          "name": "stdout",
          "text": [
            "\n",
            "                      precision    recall  f1-score   support\n",
            "\n",
            "                           1.00      1.00      1.00     55905\n",
            "                   0       0.99      1.00      1.00     54600\n",
            "                   1       1.00      0.75      0.85      1495\n",
            "\n",
            "            accuracy                           1.00    112000\n",
            "           macro avg       1.00      0.92      0.95    112000\n",
            "        weighted avg       1.00      1.00      1.00    112000\n",
            "\n"
          ]
        }
      ]
    }
  ]
}