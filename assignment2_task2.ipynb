{
  "nbformat": 4,
  "nbformat_minor": 0,
  "metadata": {
    "colab": {
      "name": "assignment2_task2 (1).ipynb",
      "provenance": [],
      "collapsed_sections": []
    },
    "kernelspec": {
      "name": "python3",
      "display_name": "Python 3"
    },
    "language_info": {
      "name": "python"
    }
  },
  "cells": [
    {
      "cell_type": "code",
      "execution_count": null,
      "metadata": {
        "id": "TfqrLjvV4PZ0"
      },
      "outputs": [],
      "source": [
        "import numpy as np\n",
        "import pandas as pd\n",
        "from sklearn.preprocessing import OrdinalEncoder\n",
        "from sklearn.preprocessing import RobustScaler\n",
        "import  gc\n",
        "import matplotlib.pyplot as plt\n"
      ]
    },
    {
      "cell_type": "code",
      "source": [
        "from google.colab import drive \n",
        "drive.mount('/content/drive')"
      ],
      "metadata": {
        "colab": {
          "base_uri": "https://localhost:8080/"
        },
        "id": "usyruRUL4R-l",
        "outputId": "eac84ba0-70a0-481a-d120-8c4c893652e0"
      },
      "execution_count": null,
      "outputs": [
        {
          "output_type": "stream",
          "name": "stdout",
          "text": [
            "Mounted at /content/drive\n"
          ]
        }
      ]
    },
    {
      "cell_type": "markdown",
      "source": [
        "#Data"
      ],
      "metadata": {
        "id": "k_trhpEJc27m"
      }
    },
    {
      "cell_type": "code",
      "source": [
        "train_data = pd.read_csv('/content/drive/My Drive/UNSW_NB15_training-set.csv')\n",
        "test_data =pd.read_csv('/content/drive/My Drive/UNSW_NB15_testing-set.csv')"
      ],
      "metadata": {
        "id": "BHWNH-h45S5H"
      },
      "execution_count": null,
      "outputs": []
    },
    {
      "cell_type": "code",
      "source": [
        "train_data.isna().sum().sum()"
      ],
      "metadata": {
        "colab": {
          "base_uri": "https://localhost:8080/"
        },
        "id": "x_Gmy2cx9ImK",
        "outputId": "181b7888-d401-46f4-cd7a-972844c3a7f0"
      },
      "execution_count": null,
      "outputs": [
        {
          "output_type": "execute_result",
          "data": {
            "text/plain": [
              "0"
            ]
          },
          "metadata": {},
          "execution_count": 4
        }
      ]
    },
    {
      "cell_type": "code",
      "source": [
        "test_data.isna().sum().sum()"
      ],
      "metadata": {
        "colab": {
          "base_uri": "https://localhost:8080/"
        },
        "id": "Hb8I6MIQ9XRs",
        "outputId": "a9051f19-3452-4b6d-db3b-4b25a4b26915"
      },
      "execution_count": null,
      "outputs": [
        {
          "output_type": "execute_result",
          "data": {
            "text/plain": [
              "0"
            ]
          },
          "metadata": {},
          "execution_count": 5
        }
      ]
    },
    {
      "cell_type": "code",
      "source": [
        "train_data.shape"
      ],
      "metadata": {
        "colab": {
          "base_uri": "https://localhost:8080/"
        },
        "id": "nZaggG1hoFxA",
        "outputId": "c9042b35-19da-413f-eb21-36ebd6982fcf"
      },
      "execution_count": null,
      "outputs": [
        {
          "output_type": "execute_result",
          "data": {
            "text/plain": [
              "(82332, 45)"
            ]
          },
          "metadata": {},
          "execution_count": 6
        }
      ]
    },
    {
      "cell_type": "code",
      "source": [
        "test_data.shape"
      ],
      "metadata": {
        "colab": {
          "base_uri": "https://localhost:8080/"
        },
        "id": "Z-6K4o7SoKCl",
        "outputId": "641df2f5-9d29-42a6-aba6-2b49e7751c0c"
      },
      "execution_count": null,
      "outputs": [
        {
          "output_type": "execute_result",
          "data": {
            "text/plain": [
              "(175341, 45)"
            ]
          },
          "metadata": {},
          "execution_count": 7
        }
      ]
    },
    {
      "cell_type": "code",
      "source": [
        "train_data.head()"
      ],
      "metadata": {
        "colab": {
          "base_uri": "https://localhost:8080/",
          "height": 236
        },
        "id": "G4L59kyCo1aC",
        "outputId": "ae70ca2f-c7ae-4572-fb15-232c1012f2bf"
      },
      "execution_count": null,
      "outputs": [
        {
          "output_type": "execute_result",
          "data": {
            "text/plain": [
              "   id       dur proto service state  spkts  dpkts  sbytes  dbytes  \\\n",
              "0   1  0.000011   udp       -   INT      2      0     496       0   \n",
              "1   2  0.000008   udp       -   INT      2      0    1762       0   \n",
              "2   3  0.000005   udp       -   INT      2      0    1068       0   \n",
              "3   4  0.000006   udp       -   INT      2      0     900       0   \n",
              "4   5  0.000010   udp       -   INT      2      0    2126       0   \n",
              "\n",
              "          rate  ...  ct_dst_sport_ltm  ct_dst_src_ltm  is_ftp_login  \\\n",
              "0   90909.0902  ...                 1               2             0   \n",
              "1  125000.0003  ...                 1               2             0   \n",
              "2  200000.0051  ...                 1               3             0   \n",
              "3  166666.6608  ...                 1               3             0   \n",
              "4  100000.0025  ...                 1               3             0   \n",
              "\n",
              "   ct_ftp_cmd  ct_flw_http_mthd  ct_src_ltm  ct_srv_dst  is_sm_ips_ports  \\\n",
              "0           0                 0           1           2                0   \n",
              "1           0                 0           1           2                0   \n",
              "2           0                 0           1           3                0   \n",
              "3           0                 0           2           3                0   \n",
              "4           0                 0           2           3                0   \n",
              "\n",
              "   attack_cat  label  \n",
              "0      Normal      0  \n",
              "1      Normal      0  \n",
              "2      Normal      0  \n",
              "3      Normal      0  \n",
              "4      Normal      0  \n",
              "\n",
              "[5 rows x 45 columns]"
            ],
            "text/html": [
              "\n",
              "  <div id=\"df-523b0488-fe8e-48b8-9294-e0a7ec0fac7c\">\n",
              "    <div class=\"colab-df-container\">\n",
              "      <div>\n",
              "<style scoped>\n",
              "    .dataframe tbody tr th:only-of-type {\n",
              "        vertical-align: middle;\n",
              "    }\n",
              "\n",
              "    .dataframe tbody tr th {\n",
              "        vertical-align: top;\n",
              "    }\n",
              "\n",
              "    .dataframe thead th {\n",
              "        text-align: right;\n",
              "    }\n",
              "</style>\n",
              "<table border=\"1\" class=\"dataframe\">\n",
              "  <thead>\n",
              "    <tr style=\"text-align: right;\">\n",
              "      <th></th>\n",
              "      <th>id</th>\n",
              "      <th>dur</th>\n",
              "      <th>proto</th>\n",
              "      <th>service</th>\n",
              "      <th>state</th>\n",
              "      <th>spkts</th>\n",
              "      <th>dpkts</th>\n",
              "      <th>sbytes</th>\n",
              "      <th>dbytes</th>\n",
              "      <th>rate</th>\n",
              "      <th>...</th>\n",
              "      <th>ct_dst_sport_ltm</th>\n",
              "      <th>ct_dst_src_ltm</th>\n",
              "      <th>is_ftp_login</th>\n",
              "      <th>ct_ftp_cmd</th>\n",
              "      <th>ct_flw_http_mthd</th>\n",
              "      <th>ct_src_ltm</th>\n",
              "      <th>ct_srv_dst</th>\n",
              "      <th>is_sm_ips_ports</th>\n",
              "      <th>attack_cat</th>\n",
              "      <th>label</th>\n",
              "    </tr>\n",
              "  </thead>\n",
              "  <tbody>\n",
              "    <tr>\n",
              "      <th>0</th>\n",
              "      <td>1</td>\n",
              "      <td>0.000011</td>\n",
              "      <td>udp</td>\n",
              "      <td>-</td>\n",
              "      <td>INT</td>\n",
              "      <td>2</td>\n",
              "      <td>0</td>\n",
              "      <td>496</td>\n",
              "      <td>0</td>\n",
              "      <td>90909.0902</td>\n",
              "      <td>...</td>\n",
              "      <td>1</td>\n",
              "      <td>2</td>\n",
              "      <td>0</td>\n",
              "      <td>0</td>\n",
              "      <td>0</td>\n",
              "      <td>1</td>\n",
              "      <td>2</td>\n",
              "      <td>0</td>\n",
              "      <td>Normal</td>\n",
              "      <td>0</td>\n",
              "    </tr>\n",
              "    <tr>\n",
              "      <th>1</th>\n",
              "      <td>2</td>\n",
              "      <td>0.000008</td>\n",
              "      <td>udp</td>\n",
              "      <td>-</td>\n",
              "      <td>INT</td>\n",
              "      <td>2</td>\n",
              "      <td>0</td>\n",
              "      <td>1762</td>\n",
              "      <td>0</td>\n",
              "      <td>125000.0003</td>\n",
              "      <td>...</td>\n",
              "      <td>1</td>\n",
              "      <td>2</td>\n",
              "      <td>0</td>\n",
              "      <td>0</td>\n",
              "      <td>0</td>\n",
              "      <td>1</td>\n",
              "      <td>2</td>\n",
              "      <td>0</td>\n",
              "      <td>Normal</td>\n",
              "      <td>0</td>\n",
              "    </tr>\n",
              "    <tr>\n",
              "      <th>2</th>\n",
              "      <td>3</td>\n",
              "      <td>0.000005</td>\n",
              "      <td>udp</td>\n",
              "      <td>-</td>\n",
              "      <td>INT</td>\n",
              "      <td>2</td>\n",
              "      <td>0</td>\n",
              "      <td>1068</td>\n",
              "      <td>0</td>\n",
              "      <td>200000.0051</td>\n",
              "      <td>...</td>\n",
              "      <td>1</td>\n",
              "      <td>3</td>\n",
              "      <td>0</td>\n",
              "      <td>0</td>\n",
              "      <td>0</td>\n",
              "      <td>1</td>\n",
              "      <td>3</td>\n",
              "      <td>0</td>\n",
              "      <td>Normal</td>\n",
              "      <td>0</td>\n",
              "    </tr>\n",
              "    <tr>\n",
              "      <th>3</th>\n",
              "      <td>4</td>\n",
              "      <td>0.000006</td>\n",
              "      <td>udp</td>\n",
              "      <td>-</td>\n",
              "      <td>INT</td>\n",
              "      <td>2</td>\n",
              "      <td>0</td>\n",
              "      <td>900</td>\n",
              "      <td>0</td>\n",
              "      <td>166666.6608</td>\n",
              "      <td>...</td>\n",
              "      <td>1</td>\n",
              "      <td>3</td>\n",
              "      <td>0</td>\n",
              "      <td>0</td>\n",
              "      <td>0</td>\n",
              "      <td>2</td>\n",
              "      <td>3</td>\n",
              "      <td>0</td>\n",
              "      <td>Normal</td>\n",
              "      <td>0</td>\n",
              "    </tr>\n",
              "    <tr>\n",
              "      <th>4</th>\n",
              "      <td>5</td>\n",
              "      <td>0.000010</td>\n",
              "      <td>udp</td>\n",
              "      <td>-</td>\n",
              "      <td>INT</td>\n",
              "      <td>2</td>\n",
              "      <td>0</td>\n",
              "      <td>2126</td>\n",
              "      <td>0</td>\n",
              "      <td>100000.0025</td>\n",
              "      <td>...</td>\n",
              "      <td>1</td>\n",
              "      <td>3</td>\n",
              "      <td>0</td>\n",
              "      <td>0</td>\n",
              "      <td>0</td>\n",
              "      <td>2</td>\n",
              "      <td>3</td>\n",
              "      <td>0</td>\n",
              "      <td>Normal</td>\n",
              "      <td>0</td>\n",
              "    </tr>\n",
              "  </tbody>\n",
              "</table>\n",
              "<p>5 rows × 45 columns</p>\n",
              "</div>\n",
              "      <button class=\"colab-df-convert\" onclick=\"convertToInteractive('df-523b0488-fe8e-48b8-9294-e0a7ec0fac7c')\"\n",
              "              title=\"Convert this dataframe to an interactive table.\"\n",
              "              style=\"display:none;\">\n",
              "        \n",
              "  <svg xmlns=\"http://www.w3.org/2000/svg\" height=\"24px\"viewBox=\"0 0 24 24\"\n",
              "       width=\"24px\">\n",
              "    <path d=\"M0 0h24v24H0V0z\" fill=\"none\"/>\n",
              "    <path d=\"M18.56 5.44l.94 2.06.94-2.06 2.06-.94-2.06-.94-.94-2.06-.94 2.06-2.06.94zm-11 1L8.5 8.5l.94-2.06 2.06-.94-2.06-.94L8.5 2.5l-.94 2.06-2.06.94zm10 10l.94 2.06.94-2.06 2.06-.94-2.06-.94-.94-2.06-.94 2.06-2.06.94z\"/><path d=\"M17.41 7.96l-1.37-1.37c-.4-.4-.92-.59-1.43-.59-.52 0-1.04.2-1.43.59L10.3 9.45l-7.72 7.72c-.78.78-.78 2.05 0 2.83L4 21.41c.39.39.9.59 1.41.59.51 0 1.02-.2 1.41-.59l7.78-7.78 2.81-2.81c.8-.78.8-2.07 0-2.86zM5.41 20L4 18.59l7.72-7.72 1.47 1.35L5.41 20z\"/>\n",
              "  </svg>\n",
              "      </button>\n",
              "      \n",
              "  <style>\n",
              "    .colab-df-container {\n",
              "      display:flex;\n",
              "      flex-wrap:wrap;\n",
              "      gap: 12px;\n",
              "    }\n",
              "\n",
              "    .colab-df-convert {\n",
              "      background-color: #E8F0FE;\n",
              "      border: none;\n",
              "      border-radius: 50%;\n",
              "      cursor: pointer;\n",
              "      display: none;\n",
              "      fill: #1967D2;\n",
              "      height: 32px;\n",
              "      padding: 0 0 0 0;\n",
              "      width: 32px;\n",
              "    }\n",
              "\n",
              "    .colab-df-convert:hover {\n",
              "      background-color: #E2EBFA;\n",
              "      box-shadow: 0px 1px 2px rgba(60, 64, 67, 0.3), 0px 1px 3px 1px rgba(60, 64, 67, 0.15);\n",
              "      fill: #174EA6;\n",
              "    }\n",
              "\n",
              "    [theme=dark] .colab-df-convert {\n",
              "      background-color: #3B4455;\n",
              "      fill: #D2E3FC;\n",
              "    }\n",
              "\n",
              "    [theme=dark] .colab-df-convert:hover {\n",
              "      background-color: #434B5C;\n",
              "      box-shadow: 0px 1px 3px 1px rgba(0, 0, 0, 0.15);\n",
              "      filter: drop-shadow(0px 1px 2px rgba(0, 0, 0, 0.3));\n",
              "      fill: #FFFFFF;\n",
              "    }\n",
              "  </style>\n",
              "\n",
              "      <script>\n",
              "        const buttonEl =\n",
              "          document.querySelector('#df-523b0488-fe8e-48b8-9294-e0a7ec0fac7c button.colab-df-convert');\n",
              "        buttonEl.style.display =\n",
              "          google.colab.kernel.accessAllowed ? 'block' : 'none';\n",
              "\n",
              "        async function convertToInteractive(key) {\n",
              "          const element = document.querySelector('#df-523b0488-fe8e-48b8-9294-e0a7ec0fac7c');\n",
              "          const dataTable =\n",
              "            await google.colab.kernel.invokeFunction('convertToInteractive',\n",
              "                                                     [key], {});\n",
              "          if (!dataTable) return;\n",
              "\n",
              "          const docLinkHtml = 'Like what you see? Visit the ' +\n",
              "            '<a target=\"_blank\" href=https://colab.research.google.com/notebooks/data_table.ipynb>data table notebook</a>'\n",
              "            + ' to learn more about interactive tables.';\n",
              "          element.innerHTML = '';\n",
              "          dataTable['output_type'] = 'display_data';\n",
              "          await google.colab.output.renderOutput(dataTable, element);\n",
              "          const docLink = document.createElement('div');\n",
              "          docLink.innerHTML = docLinkHtml;\n",
              "          element.appendChild(docLink);\n",
              "        }\n",
              "      </script>\n",
              "    </div>\n",
              "  </div>\n",
              "  "
            ]
          },
          "metadata": {},
          "execution_count": 8
        }
      ]
    },
    {
      "cell_type": "code",
      "source": [
        "test_data.head()"
      ],
      "metadata": {
        "colab": {
          "base_uri": "https://localhost:8080/",
          "height": 236
        },
        "id": "w1BP6Dqeo703",
        "outputId": "96fbc230-cac6-4870-eef8-089cda89b33f"
      },
      "execution_count": null,
      "outputs": [
        {
          "output_type": "execute_result",
          "data": {
            "text/plain": [
              "   id       dur proto service state  spkts  dpkts  sbytes  dbytes       rate  \\\n",
              "0   1  0.121478   tcp       -   FIN      6      4     258     172  74.087490   \n",
              "1   2  0.649902   tcp       -   FIN     14     38     734   42014  78.473372   \n",
              "2   3  1.623129   tcp       -   FIN      8     16     364   13186  14.170161   \n",
              "3   4  1.681642   tcp     ftp   FIN     12     12     628     770  13.677108   \n",
              "4   5  0.449454   tcp       -   FIN     10      6     534     268  33.373826   \n",
              "\n",
              "   ...  ct_dst_sport_ltm  ct_dst_src_ltm  is_ftp_login  ct_ftp_cmd  \\\n",
              "0  ...                 1               1             0           0   \n",
              "1  ...                 1               2             0           0   \n",
              "2  ...                 1               3             0           0   \n",
              "3  ...                 1               3             1           1   \n",
              "4  ...                 1              40             0           0   \n",
              "\n",
              "   ct_flw_http_mthd  ct_src_ltm  ct_srv_dst  is_sm_ips_ports  attack_cat  \\\n",
              "0                 0           1           1                0      Normal   \n",
              "1                 0           1           6                0      Normal   \n",
              "2                 0           2           6                0      Normal   \n",
              "3                 0           2           1                0      Normal   \n",
              "4                 0           2          39                0      Normal   \n",
              "\n",
              "   label  \n",
              "0      0  \n",
              "1      0  \n",
              "2      0  \n",
              "3      0  \n",
              "4      0  \n",
              "\n",
              "[5 rows x 45 columns]"
            ],
            "text/html": [
              "\n",
              "  <div id=\"df-860a62ed-34f6-4964-b9df-3a601c25f749\">\n",
              "    <div class=\"colab-df-container\">\n",
              "      <div>\n",
              "<style scoped>\n",
              "    .dataframe tbody tr th:only-of-type {\n",
              "        vertical-align: middle;\n",
              "    }\n",
              "\n",
              "    .dataframe tbody tr th {\n",
              "        vertical-align: top;\n",
              "    }\n",
              "\n",
              "    .dataframe thead th {\n",
              "        text-align: right;\n",
              "    }\n",
              "</style>\n",
              "<table border=\"1\" class=\"dataframe\">\n",
              "  <thead>\n",
              "    <tr style=\"text-align: right;\">\n",
              "      <th></th>\n",
              "      <th>id</th>\n",
              "      <th>dur</th>\n",
              "      <th>proto</th>\n",
              "      <th>service</th>\n",
              "      <th>state</th>\n",
              "      <th>spkts</th>\n",
              "      <th>dpkts</th>\n",
              "      <th>sbytes</th>\n",
              "      <th>dbytes</th>\n",
              "      <th>rate</th>\n",
              "      <th>...</th>\n",
              "      <th>ct_dst_sport_ltm</th>\n",
              "      <th>ct_dst_src_ltm</th>\n",
              "      <th>is_ftp_login</th>\n",
              "      <th>ct_ftp_cmd</th>\n",
              "      <th>ct_flw_http_mthd</th>\n",
              "      <th>ct_src_ltm</th>\n",
              "      <th>ct_srv_dst</th>\n",
              "      <th>is_sm_ips_ports</th>\n",
              "      <th>attack_cat</th>\n",
              "      <th>label</th>\n",
              "    </tr>\n",
              "  </thead>\n",
              "  <tbody>\n",
              "    <tr>\n",
              "      <th>0</th>\n",
              "      <td>1</td>\n",
              "      <td>0.121478</td>\n",
              "      <td>tcp</td>\n",
              "      <td>-</td>\n",
              "      <td>FIN</td>\n",
              "      <td>6</td>\n",
              "      <td>4</td>\n",
              "      <td>258</td>\n",
              "      <td>172</td>\n",
              "      <td>74.087490</td>\n",
              "      <td>...</td>\n",
              "      <td>1</td>\n",
              "      <td>1</td>\n",
              "      <td>0</td>\n",
              "      <td>0</td>\n",
              "      <td>0</td>\n",
              "      <td>1</td>\n",
              "      <td>1</td>\n",
              "      <td>0</td>\n",
              "      <td>Normal</td>\n",
              "      <td>0</td>\n",
              "    </tr>\n",
              "    <tr>\n",
              "      <th>1</th>\n",
              "      <td>2</td>\n",
              "      <td>0.649902</td>\n",
              "      <td>tcp</td>\n",
              "      <td>-</td>\n",
              "      <td>FIN</td>\n",
              "      <td>14</td>\n",
              "      <td>38</td>\n",
              "      <td>734</td>\n",
              "      <td>42014</td>\n",
              "      <td>78.473372</td>\n",
              "      <td>...</td>\n",
              "      <td>1</td>\n",
              "      <td>2</td>\n",
              "      <td>0</td>\n",
              "      <td>0</td>\n",
              "      <td>0</td>\n",
              "      <td>1</td>\n",
              "      <td>6</td>\n",
              "      <td>0</td>\n",
              "      <td>Normal</td>\n",
              "      <td>0</td>\n",
              "    </tr>\n",
              "    <tr>\n",
              "      <th>2</th>\n",
              "      <td>3</td>\n",
              "      <td>1.623129</td>\n",
              "      <td>tcp</td>\n",
              "      <td>-</td>\n",
              "      <td>FIN</td>\n",
              "      <td>8</td>\n",
              "      <td>16</td>\n",
              "      <td>364</td>\n",
              "      <td>13186</td>\n",
              "      <td>14.170161</td>\n",
              "      <td>...</td>\n",
              "      <td>1</td>\n",
              "      <td>3</td>\n",
              "      <td>0</td>\n",
              "      <td>0</td>\n",
              "      <td>0</td>\n",
              "      <td>2</td>\n",
              "      <td>6</td>\n",
              "      <td>0</td>\n",
              "      <td>Normal</td>\n",
              "      <td>0</td>\n",
              "    </tr>\n",
              "    <tr>\n",
              "      <th>3</th>\n",
              "      <td>4</td>\n",
              "      <td>1.681642</td>\n",
              "      <td>tcp</td>\n",
              "      <td>ftp</td>\n",
              "      <td>FIN</td>\n",
              "      <td>12</td>\n",
              "      <td>12</td>\n",
              "      <td>628</td>\n",
              "      <td>770</td>\n",
              "      <td>13.677108</td>\n",
              "      <td>...</td>\n",
              "      <td>1</td>\n",
              "      <td>3</td>\n",
              "      <td>1</td>\n",
              "      <td>1</td>\n",
              "      <td>0</td>\n",
              "      <td>2</td>\n",
              "      <td>1</td>\n",
              "      <td>0</td>\n",
              "      <td>Normal</td>\n",
              "      <td>0</td>\n",
              "    </tr>\n",
              "    <tr>\n",
              "      <th>4</th>\n",
              "      <td>5</td>\n",
              "      <td>0.449454</td>\n",
              "      <td>tcp</td>\n",
              "      <td>-</td>\n",
              "      <td>FIN</td>\n",
              "      <td>10</td>\n",
              "      <td>6</td>\n",
              "      <td>534</td>\n",
              "      <td>268</td>\n",
              "      <td>33.373826</td>\n",
              "      <td>...</td>\n",
              "      <td>1</td>\n",
              "      <td>40</td>\n",
              "      <td>0</td>\n",
              "      <td>0</td>\n",
              "      <td>0</td>\n",
              "      <td>2</td>\n",
              "      <td>39</td>\n",
              "      <td>0</td>\n",
              "      <td>Normal</td>\n",
              "      <td>0</td>\n",
              "    </tr>\n",
              "  </tbody>\n",
              "</table>\n",
              "<p>5 rows × 45 columns</p>\n",
              "</div>\n",
              "      <button class=\"colab-df-convert\" onclick=\"convertToInteractive('df-860a62ed-34f6-4964-b9df-3a601c25f749')\"\n",
              "              title=\"Convert this dataframe to an interactive table.\"\n",
              "              style=\"display:none;\">\n",
              "        \n",
              "  <svg xmlns=\"http://www.w3.org/2000/svg\" height=\"24px\"viewBox=\"0 0 24 24\"\n",
              "       width=\"24px\">\n",
              "    <path d=\"M0 0h24v24H0V0z\" fill=\"none\"/>\n",
              "    <path d=\"M18.56 5.44l.94 2.06.94-2.06 2.06-.94-2.06-.94-.94-2.06-.94 2.06-2.06.94zm-11 1L8.5 8.5l.94-2.06 2.06-.94-2.06-.94L8.5 2.5l-.94 2.06-2.06.94zm10 10l.94 2.06.94-2.06 2.06-.94-2.06-.94-.94-2.06-.94 2.06-2.06.94z\"/><path d=\"M17.41 7.96l-1.37-1.37c-.4-.4-.92-.59-1.43-.59-.52 0-1.04.2-1.43.59L10.3 9.45l-7.72 7.72c-.78.78-.78 2.05 0 2.83L4 21.41c.39.39.9.59 1.41.59.51 0 1.02-.2 1.41-.59l7.78-7.78 2.81-2.81c.8-.78.8-2.07 0-2.86zM5.41 20L4 18.59l7.72-7.72 1.47 1.35L5.41 20z\"/>\n",
              "  </svg>\n",
              "      </button>\n",
              "      \n",
              "  <style>\n",
              "    .colab-df-container {\n",
              "      display:flex;\n",
              "      flex-wrap:wrap;\n",
              "      gap: 12px;\n",
              "    }\n",
              "\n",
              "    .colab-df-convert {\n",
              "      background-color: #E8F0FE;\n",
              "      border: none;\n",
              "      border-radius: 50%;\n",
              "      cursor: pointer;\n",
              "      display: none;\n",
              "      fill: #1967D2;\n",
              "      height: 32px;\n",
              "      padding: 0 0 0 0;\n",
              "      width: 32px;\n",
              "    }\n",
              "\n",
              "    .colab-df-convert:hover {\n",
              "      background-color: #E2EBFA;\n",
              "      box-shadow: 0px 1px 2px rgba(60, 64, 67, 0.3), 0px 1px 3px 1px rgba(60, 64, 67, 0.15);\n",
              "      fill: #174EA6;\n",
              "    }\n",
              "\n",
              "    [theme=dark] .colab-df-convert {\n",
              "      background-color: #3B4455;\n",
              "      fill: #D2E3FC;\n",
              "    }\n",
              "\n",
              "    [theme=dark] .colab-df-convert:hover {\n",
              "      background-color: #434B5C;\n",
              "      box-shadow: 0px 1px 3px 1px rgba(0, 0, 0, 0.15);\n",
              "      filter: drop-shadow(0px 1px 2px rgba(0, 0, 0, 0.3));\n",
              "      fill: #FFFFFF;\n",
              "    }\n",
              "  </style>\n",
              "\n",
              "      <script>\n",
              "        const buttonEl =\n",
              "          document.querySelector('#df-860a62ed-34f6-4964-b9df-3a601c25f749 button.colab-df-convert');\n",
              "        buttonEl.style.display =\n",
              "          google.colab.kernel.accessAllowed ? 'block' : 'none';\n",
              "\n",
              "        async function convertToInteractive(key) {\n",
              "          const element = document.querySelector('#df-860a62ed-34f6-4964-b9df-3a601c25f749');\n",
              "          const dataTable =\n",
              "            await google.colab.kernel.invokeFunction('convertToInteractive',\n",
              "                                                     [key], {});\n",
              "          if (!dataTable) return;\n",
              "\n",
              "          const docLinkHtml = 'Like what you see? Visit the ' +\n",
              "            '<a target=\"_blank\" href=https://colab.research.google.com/notebooks/data_table.ipynb>data table notebook</a>'\n",
              "            + ' to learn more about interactive tables.';\n",
              "          element.innerHTML = '';\n",
              "          dataTable['output_type'] = 'display_data';\n",
              "          await google.colab.output.renderOutput(dataTable, element);\n",
              "          const docLink = document.createElement('div');\n",
              "          docLink.innerHTML = docLinkHtml;\n",
              "          element.appendChild(docLink);\n",
              "        }\n",
              "      </script>\n",
              "    </div>\n",
              "  </div>\n",
              "  "
            ]
          },
          "metadata": {},
          "execution_count": 9
        }
      ]
    },
    {
      "cell_type": "markdown",
      "source": [
        "#Data Preprocessing"
      ],
      "metadata": {
        "id": "rY1YDA5bc_uJ"
      }
    },
    {
      "cell_type": "code",
      "source": [
        "train_data.drop(['is_ftp_login','ct_ftp_cmd','is_sm_ips_ports'], inplace=True, axis=1)\n",
        "test_data.drop(['is_ftp_login','ct_ftp_cmd','is_sm_ips_ports'], inplace=True, axis=1)"
      ],
      "metadata": {
        "id": "b-Gzj5YRdrIk"
      },
      "execution_count": null,
      "outputs": []
    },
    {
      "cell_type": "code",
      "source": [
        "#Selecting Categorical Features\n",
        "categorical_cols = [col for col in train_data.columns if train_data[col].dtypes == 'object']\n",
        "categorical_cols"
      ],
      "metadata": {
        "id": "L03BP3O0-CPF",
        "colab": {
          "base_uri": "https://localhost:8080/"
        },
        "outputId": "efd12112-9681-4501-f6bc-e356c49b1602"
      },
      "execution_count": null,
      "outputs": [
        {
          "output_type": "execute_result",
          "data": {
            "text/plain": [
              "['proto', 'service', 'state', 'attack_cat']"
            ]
          },
          "metadata": {},
          "execution_count": 11
        }
      ]
    },
    {
      "cell_type": "code",
      "source": [
        "#Handling categorical features using ordinal encoder\n",
        "encoder = OrdinalEncoder(handle_unknown='use_encoded_value',unknown_value=-1)\n",
        "encoder.fit(train_data[categorical_cols])\n",
        "def ohe_new_features(df, features_names, encoder):\n",
        "  new_feats = encoder.transform(df[features_names])\n",
        "  new_cols = pd.DataFrame(new_feats, columns=features_names,dtype=int)\n",
        "  drop_df = df.drop(features_names, axis=1)\n",
        "  new_df = pd.concat([drop_df, new_cols], axis=1)\n",
        "  \n",
        "  gc.collect()\n",
        "  return new_df"
      ],
      "metadata": {
        "id": "AEcrQnpQ99fp"
      },
      "execution_count": null,
      "outputs": []
    },
    {
      "cell_type": "code",
      "source": [
        "train_data=ohe_new_features(train_data, categorical_cols, encoder)\n",
        "test_data=ohe_new_features(test_data, categorical_cols, encoder)"
      ],
      "metadata": {
        "id": "ks3r_yTu-AWe"
      },
      "execution_count": null,
      "outputs": []
    },
    {
      "cell_type": "code",
      "source": [
        "#scaling the data using Robust scaler\n",
        "scaler = RobustScaler()\n",
        "scaler.fit(train_data)\n",
        "def scaling_data(df,scaler,cols):\n",
        "  scaled_df = scaler.transform(df)\n",
        "  df = pd.DataFrame(scaled_df,columns = cols)\n",
        "  gc.collect()\n",
        "  return  df"
      ],
      "metadata": {
        "id": "tBHTpPn05oie"
      },
      "execution_count": null,
      "outputs": []
    },
    {
      "cell_type": "code",
      "source": [
        "train=scaling_data(train_data,scaler,train_data.columns.tolist())\n",
        "test=scaling_data(test_data,scaler,train_data.columns.tolist())\n",
        "train_data=pd.DataFrame(train,columns=train_data.columns.tolist())\n",
        "test_data=pd.DataFrame(test,columns=test_data.columns.tolist())"
      ],
      "metadata": {
        "id": "IguW_Imx-X16"
      },
      "execution_count": null,
      "outputs": []
    },
    {
      "cell_type": "code",
      "source": [
        "print(train.shape)\n",
        "print(test.shape)"
      ],
      "metadata": {
        "colab": {
          "base_uri": "https://localhost:8080/"
        },
        "id": "TPfz5SMs9ZHL",
        "outputId": "0a9c5acb-b80e-434e-aac9-1d9cf9afa5aa"
      },
      "execution_count": null,
      "outputs": [
        {
          "output_type": "stream",
          "name": "stdout",
          "text": [
            "(82332, 42)\n",
            "(175341, 42)\n"
          ]
        }
      ]
    },
    {
      "cell_type": "code",
      "source": [
        "y_train=train['attack_cat']\n",
        "y_test=test['attack_cat']"
      ],
      "metadata": {
        "id": "ABb7uCeeeTE_"
      },
      "execution_count": null,
      "outputs": []
    },
    {
      "cell_type": "code",
      "source": [
        "train.drop('attack_cat', inplace=True, axis=1)\n",
        "test.drop('attack_cat', inplace=True, axis=1)"
      ],
      "metadata": {
        "id": "zsDtBbNrk5It"
      },
      "execution_count": null,
      "outputs": []
    },
    {
      "cell_type": "code",
      "source": [
        "X_train=(train.to_numpy())\n",
        "X_test=(test.to_numpy())\n",
        "y_train=y_train.to_numpy()\n",
        "y_test=y_test.to_numpy()"
      ],
      "metadata": {
        "id": "Uz1FZRr7ecU7"
      },
      "execution_count": null,
      "outputs": []
    },
    {
      "cell_type": "code",
      "source": [
        "#!pip install fast_ml"
      ],
      "metadata": {
        "id": "YTbWxfFrdZQA"
      },
      "execution_count": null,
      "outputs": []
    },
    {
      "cell_type": "code",
      "source": [
        "#!pip install interpret"
      ],
      "metadata": {
        "id": "BrgZEuyJdZ9f"
      },
      "execution_count": null,
      "outputs": []
    },
    {
      "cell_type": "markdown",
      "source": [
        "#CGANs"
      ],
      "metadata": {
        "id": "Oy5A4cOKpGH9"
      }
    },
    {
      "cell_type": "code",
      "source": [
        "import torch\n",
        "import torch.nn as nn\n",
        "import torch.optim as optim\n",
        "from torchsummary import summary\n",
        "from torch.utils.data import TensorDataset, DataLoader\n",
        "import torch.nn.functional as F\n",
        "from torchvision import datasets, transforms\n"
      ],
      "metadata": {
        "id": "6Pwn4j9IE4Wc"
      },
      "execution_count": null,
      "outputs": []
    },
    {
      "cell_type": "code",
      "source": [
        "batch_size=512\n",
        "y_train = torch.tensor(y_train, dtype=torch.int64)\n",
        "y_test = torch.tensor(y_test, dtype=torch.int64)\n",
        "trainloader = DataLoader(TensorDataset(torch.Tensor(X_train), y_train), batch_size=batch_size, shuffle=True)\n",
        "testloader = DataLoader(TensorDataset(torch.Tensor(X_test), y_test), batch_size=batch_size, shuffle=True)"
      ],
      "metadata": {
        "id": "65Wccu4getOM",
        "colab": {
          "base_uri": "https://localhost:8080/"
        },
        "outputId": "eacfa5b8-6b46-4f0f-a7d6-ab34546cfd22"
      },
      "execution_count": null,
      "outputs": [
        {
          "output_type": "stream",
          "name": "stderr",
          "text": [
            "/usr/local/lib/python3.7/dist-packages/ipykernel_launcher.py:2: UserWarning: To copy construct from a tensor, it is recommended to use sourceTensor.clone().detach() or sourceTensor.clone().detach().requires_grad_(True), rather than torch.tensor(sourceTensor).\n",
            "  \n",
            "/usr/local/lib/python3.7/dist-packages/ipykernel_launcher.py:3: UserWarning: To copy construct from a tensor, it is recommended to use sourceTensor.clone().detach() or sourceTensor.clone().detach().requires_grad_(True), rather than torch.tensor(sourceTensor).\n",
            "  This is separate from the ipykernel package so we can avoid doing imports until\n"
          ]
        }
      ]
    },
    {
      "cell_type": "code",
      "source": [
        "class Generator(nn.Module):  \n",
        "  def __init__(self):\n",
        "    super(Generator, self).__init__()\n",
        "    self.generator = nn.Sequential(\n",
        "      nn.Linear(100, 128),\n",
        "      nn.Linear(128, 256),\n",
        "      nn.ReLU(True),\n",
        "      nn.Linear(256, 512),\n",
        "      nn.ReLU(True),\n",
        "      nn.Linear(512, 39)\n",
        "    )\n",
        "    self.generator.apply(self.__init_weights)\n",
        "\n",
        "  def forward(self, z, y):\n",
        "    y = F.one_hot(y, num_classes=10)\n",
        "    z = torch.cat((z, y), 1)\n",
        "    x = self.generator(z)\n",
        "    return x\n",
        "  \n",
        "  def __init_weights(self,m):\n",
        "    #Init the weights (optional)\n",
        "    if type(m) == nn.Linear:\n",
        "      torch.nn.init.xavier_uniform_(m.weight)\n",
        "      m.bias.data.fill_(0.01)\n",
        " "
      ],
      "metadata": {
        "id": "OKmcREWFAgNN"
      },
      "execution_count": null,
      "outputs": []
    },
    {
      "cell_type": "code",
      "source": [
        "class Discriminator(nn.Module):\n",
        "  def __init__(self, h_dim=128):\n",
        "    super(Discriminator, self).__init__()\n",
        "    self.discriminator = nn.Sequential(\n",
        "      nn.Linear(49, 512),\n",
        "      nn.Linear(512, 256),\n",
        "      nn.LeakyReLU(inplace=True),\n",
        "      nn.Linear(256, 128),\n",
        "      nn.LeakyReLU(inplace=True),\n",
        "      nn.Linear(128, 1),\n",
        "      nn.Sigmoid()\n",
        "    )\n",
        "    self.discriminator.apply(self.__init_weights)\n",
        "  def forward(self, x, y):\n",
        "    y = F.one_hot(y, num_classes=10)\n",
        "    x = torch.cat((x, y), 1)\n",
        "    x = self.discriminator(x)\n",
        "    return x\n",
        "  def __init_weights(self,m):\n",
        "    if type(m) == nn.Linear:\n",
        "      torch.nn.init.xavier_uniform_(m.weight)\n",
        "      m.bias.data.fill_(0.01)"
      ],
      "metadata": {
        "id": "Ap21hc9VAhzS"
      },
      "execution_count": null,
      "outputs": []
    },
    {
      "cell_type": "code",
      "source": [
        "device = torch.device(\"cuda:0\" if torch.cuda.is_available() else \"cpu\")"
      ],
      "metadata": {
        "id": "ox7EoGCNfnHZ"
      },
      "execution_count": null,
      "outputs": []
    },
    {
      "cell_type": "code",
      "source": [
        "def Discriminator_Loss(o):\n",
        "  loss=nn.BCELoss()\n",
        "  x,y=o.squeeze(),torch.FloatTensor(o.size(0)).uniform_(0.9, 1).to(device)\n",
        "  return loss(x,y)"
      ],
      "metadata": {
        "id": "JVLTTxO4-u9A"
      },
      "execution_count": null,
      "outputs": []
    },
    {
      "cell_type": "code",
      "source": [
        "def Genenerator_Loss(o):\n",
        "  loss=nn.BCELoss()\n",
        "  x,y=o.squeeze(),torch.FloatTensor(o.size(0)).uniform_(0, 0.1).to(device)\n",
        "  return loss(x,y)"
      ],
      "metadata": {
        "id": "FJnyjREXAz6I"
      },
      "execution_count": null,
      "outputs": []
    },
    {
      "cell_type": "code",
      "source": [
        "generator,discriminator = Generator().to(device),Discriminator().to(device)\n",
        "generator_opt = torch.optim.SGD(generator.parameters(), lr=5e-4)\n",
        "discriminator_opt = torch.optim.SGD(discriminator.parameters(), lr=5e-4)"
      ],
      "metadata": {
        "id": "aYKCah18fuTf"
      },
      "execution_count": null,
      "outputs": []
    },
    {
      "cell_type": "code",
      "source": [
        "torch.cuda.is_available()"
      ],
      "metadata": {
        "colab": {
          "base_uri": "https://localhost:8080/"
        },
        "id": "_0nTV6xL4pWT",
        "outputId": "8d69eaa6-aee4-458e-9f56-e62aa21b79a5"
      },
      "execution_count": null,
      "outputs": [
        {
          "output_type": "execute_result",
          "data": {
            "text/plain": [
              "False"
            ]
          },
          "metadata": {},
          "execution_count": 30
        }
      ]
    },
    {
      "cell_type": "code",
      "source": [
        "num_epochs=40\n",
        "for epoch in range(num_epochs):\n",
        "    for batch_i, (X, y) in enumerate(trainloader):\n",
        "        batch_size = X.size(0)\n",
        "        z = np.random.uniform(-1, 1, size=(batch_size, 90))\n",
        "        z = torch.from_numpy(z).float().to(device)\n",
        "        generator_opt.zero_grad()\n",
        "        X, y = X.to(device), y.to(device)\n",
        "        dR= discriminator(X, y)\n",
        "        DLoss = Discriminator_Loss(dR)\n",
        "        not_G = generator(z, y)\n",
        "        not_D = discriminator(not_G, y)\n",
        "        Discriminator_Loss = Discriminator_Loss + Genenerator_Loss(not_D)\n",
        "        Discriminator_Loss.backward()\n",
        "        generator_opt.step()\n",
        "        generator_opt.zero_grad()\n",
        "        not_G = generator(z, y)\n",
        "        Genenerator_Loss = Discriminator_Loss(discriminator(not_G, y))\n",
        "        Genenerator_Loss.backward()\n",
        "        generator_opt.step()\n",
        "    print('epoch [{}/{}], Discriminator_Loss:{:.4f}, Genenerator_Loss:{:.4f}'.format(epoch + 1, num_epochs, Discriminator_Loss.item() , Genenerator_Loss.item()))"
      ],
      "metadata": {
        "colab": {
          "base_uri": "https://localhost:8080/"
        },
        "id": "dNflIyLWr6zy",
        "outputId": "73357e9e-3a75-4777-d3df-7876c2ca1b9d"
      },
      "execution_count": null,
      "outputs": [
        {
          "output_type": "stream",
          "name": "stdout",
          "text": [
            "epoch [1/30], Discriminator_Loss: 0.9565 , Genenerator_Loss: 1.6853\n",
            "epoch [2/30], Discriminator_Loss: 0.8503 , Genenerator_Loss: 3.4615\n",
            "epoch [3/30], Discriminator_Loss: 0.8733 , Genenerator_Loss: 1.6990\n",
            "epoch [4/30], Discriminator_Loss: 0.7875 , Genenerator_Loss: 1.7513\n",
            "epoch [5/30], Discriminator_Loss: 0.8364 , Genenerator_Loss: 1.6031\n",
            "epoch [6/30], Discriminator_Loss: 0.9812 , Genenerator_Loss: 2.9553\n",
            "epoch [7/30], Discriminator_Loss: 3.0306 , Genenerator_Loss: 1.6723\n",
            "epoch [8/30], Discriminator_Loss: 2.8908 , Genenerator_Loss: 1.7566\n",
            "epoch [9/30], Discriminator_Loss: 0.8980 , Genenerator_Loss: 1.6771\n",
            "epoch [10/30], Discriminator_Loss: 0.8927 , Genenerator_Loss: 1.5247\n",
            "epoch [11/30], Discriminator_Loss: 0.8534 , Genenerator_Loss: 1.5631\n",
            "epoch [12/30], Discriminator_Loss: 0.9190 , Genenerator_Loss: 1.6594\n",
            "epoch [13/30], Discriminator_Loss: 0.8707 , Genenerator_Loss: 3.7768\n",
            "epoch [14/30], Discriminator_Loss: 0.8958 , Genenerator_Loss: 1.5155\n",
            "epoch [15/30], Discriminator_Loss: 0.7684 , Genenerator_Loss: 1.6857\n",
            "epoch [16/30], Discriminator_Loss: 0.8903 , Genenerator_Loss: 1.6012\n",
            "epoch [17/30], Discriminator_Loss: 0.7658 , Genenerator_Loss: 5.7992\n",
            "epoch [18/30], Discriminator_Loss: 0.8211 , Genenerator_Loss: 1.7932\n",
            "epoch [19/30], Discriminator_Loss: 7.0583 , Genenerator_Loss: 1.8607\n",
            "epoch [20/30], Discriminator_Loss: 0.7481 , Genenerator_Loss: 1.7866\n",
            "epoch [21/30], Discriminator_Loss: 0.8808 , Genenerator_Loss: 1.7215\n",
            "epoch [22/30], Discriminator_Loss: 2.8925 , Genenerator_Loss: 1.6815\n",
            "epoch [23/30], Discriminator_Loss: 0.8479 , Genenerator_Loss: 1.6364\n",
            "epoch [24/30], Discriminator_Loss: 0.7079 , Genenerator_Loss: 1.6782\n",
            "epoch [25/30], Discriminator_Loss: 0.9650 , Genenerator_Loss: 1.4761\n",
            "epoch [26/30], Discriminator_Loss: 0.8279 , Genenerator_Loss: 1.6367\n",
            "epoch [27/30], Discriminator_Loss: 2.9903 , Genenerator_Loss: 1.7408\n",
            "epoch [28/30], Discriminator_Loss: 3.0946 , Genenerator_Loss: 1.5306\n",
            "epoch [29/30], Discriminator_Loss: 2.7848 , Genenerator_Loss: 1.6939\n",
            "epoch [30/30], Discriminator_Loss: 0.8275 , Genenerator_Loss: 1.5860\n"
          ]
        }
      ]
    },
    {
      "cell_type": "markdown",
      "source": [
        "#Classification using Random Forest Classifier"
      ],
      "metadata": {
        "id": "6vFqiCbyvPZt"
      }
    },
    {
      "cell_type": "code",
      "source": [
        "from sklearn.ensemble import RandomForestClassifier\n",
        "from interpret.glassbox import ExplainableBoostingClassifier\n",
        "from sklearn.metrics import classification_report\n"
      ],
      "metadata": {
        "id": "PSqtPmy4glDP"
      },
      "execution_count": null,
      "outputs": []
    },
    {
      "cell_type": "code",
      "source": [
        "clf=RandomForestClassifier()"
      ],
      "metadata": {
        "id": "rlEn_OBCgBAc"
      },
      "execution_count": null,
      "outputs": []
    },
    {
      "cell_type": "code",
      "source": [
        "clf.fit(X_train,y_train)"
      ],
      "metadata": {
        "colab": {
          "base_uri": "https://localhost:8080/"
        },
        "id": "fGBvQq_ggFiq",
        "outputId": "5a839cfd-cf36-43fe-b5e8-e6a11bec51d9"
      },
      "execution_count": null,
      "outputs": [
        {
          "output_type": "execute_result",
          "data": {
            "text/plain": [
              "RandomForestClassifier()"
            ]
          },
          "metadata": {},
          "execution_count": 39
        }
      ]
    },
    {
      "cell_type": "code",
      "source": [
        "y_pred=clf.predict(X_test)"
      ],
      "metadata": {
        "id": "9pO9s6CKgIHP"
      },
      "execution_count": null,
      "outputs": []
    },
    {
      "cell_type": "code",
      "source": [
        "print(classification_report(y_pred,y_test))"
      ],
      "metadata": {
        "colab": {
          "base_uri": "https://localhost:8080/"
        },
        "id": "hycqsUGwwdiM",
        "outputId": "bdfda8b2-fd06-4745-b755-7e2580cadee6"
      },
      "execution_count": null,
      "outputs": [
        {
          "output_type": "stream",
          "name": "stdout",
          "text": [
            "\n",
            "             precision    recall  f1-score   support\n",
            "\n",
            "           0       0.00      0.00      0.00         0\n",
            "           1       0.05      0.97      0.10        92\n",
            "           2       0.56      0.34      0.43     19938\n",
            "           3       0.65      0.73      0.69     29919\n",
            "           4       0.86      0.90      0.88     17437\n",
            "           5       0.98      0.94      0.96     41827\n",
            "           6       1.00      1.00      1.00     56006\n",
            "           7       0.74      0.92      0.82      8406\n",
            "           8       0.65      0.44      0.52      1685\n",
            "           9       0.17      0.71      0.27        31\n",
            "\n",
            "    accuracy                           0.85    175341\n",
            "   macro avg       0.57      0.70      0.57    175341\n",
            "weighted avg       0.86      0.85      0.85    175341\n",
            "\n",
            "\n"
          ]
        }
      ]
    },
    {
      "cell_type": "markdown",
      "source": [
        "#classification using Explainable Boosting Classifier"
      ],
      "metadata": {
        "id": "yfr_vj-Ywv24"
      }
    },
    {
      "cell_type": "code",
      "source": [
        "clf = ExplainableBoostingClassifier()\n"
      ],
      "metadata": {
        "id": "bh_7SDaaw89Q"
      },
      "execution_count": null,
      "outputs": []
    },
    {
      "cell_type": "code",
      "source": [
        "clf.fit(X_train,y_train)"
      ],
      "metadata": {
        "id": "E442la4iw9BO"
      },
      "execution_count": null,
      "outputs": []
    },
    {
      "cell_type": "code",
      "source": [
        "y_pred=clf.predict(X_test)\n"
      ],
      "metadata": {
        "id": "1-EMvYTrxfxV"
      },
      "execution_count": null,
      "outputs": []
    },
    {
      "cell_type": "code",
      "source": [
        "print(classification_report(y_pred,y_test))"
      ],
      "metadata": {
        "colab": {
          "base_uri": "https://localhost:8080/"
        },
        "id": "8szertbuxf9B",
        "outputId": "6e9f2a6a-3496-4091-f7b0-0ad53014becf"
      },
      "execution_count": null,
      "outputs": [
        {
          "output_type": "stream",
          "name": "stdout",
          "text": [
            "\n",
            "              precision    recall  f1-score   support\n",
            "\n",
            "           0       0.96      0.75      0.85     37000\n",
            "           1       0.01      0.13      0.04       583\n",
            "           2       0.01      0.04      0.03       677\n",
            "           3       0.28      0.57      0.38      6062\n",
            "           4       0.33      0.70      0.46       378\n",
            "           5       0.90      0.79      0.86      3496\n",
            "           6       0.63      0.77      0.69     11132\n",
            "           7       0.61      0.10      0.19      4089\n",
            "           8       0.49      0.21      0.29        44\n",
            "           9       1.00      0.97      0.98     18871\n",
            "\n",
            "    accuracy                           0.86     82332\n",
            "   macro avg       0.53      0.51      0.48     82332\n",
            "weighted avg       0.84      0.76      0.78     82332\n",
            "\n",
            "\n"
          ]
        }
      ]
    },
    {
      "cell_type": "code",
      "source": [
        "class SN(nn.Module):\n",
        "    \n",
        "  def __init__(self):\n",
        "    super(SN, self).__init__()\n",
        "    self.clf = nn.Sequential(\n",
        "      nn.Linear(50, 40),\n",
        "      nn.ReLU(True),\n",
        "      nn.Linear(40, 20)\n",
        "    )\n",
        "    \n",
        "    self.clf.apply(self.__init_weights)\n",
        "\n",
        "  def forward(self, x):\n",
        "    output = self.clf(x)\n",
        "    return output\n",
        "  \n",
        "  def __init_weights(self,m):\n",
        "    #Init the weights (optional)\n",
        "    if type(m) == nn.Linear:\n",
        "      torch.nn.init.xavier_uniform_(m.weight)\n",
        "      m.bias.data.fill_(0.01)"
      ],
      "metadata": {
        "id": "7Cgl6Bf-1RCT"
      },
      "execution_count": null,
      "outputs": []
    },
    {
      "cell_type": "code",
      "source": [
        "def train_SN(model, data):\n",
        "    optimizer = torch.optim.SGD(model.parameters(), lr=.001)\n",
        "    criterion = nn.CrossEntropyLoss()\n",
        "    model.train()\n",
        "    for epoch in range(10):\n",
        "        for X, y in data:\n",
        "            X = X.to(device)\n",
        "            y = y.to(device)\n",
        "            \n",
        "            optimizer.zero_grad()\n",
        "            output = model(X)\n",
        "            loss = criterion(output, y)\n",
        "            \n",
        "            loss.backward()\n",
        "            optimizer.step()\n",
        "        # log\n",
        "        print('epoch [{}/{}], loss:{:.4f}'.format(epoch + 1, num_epochs, loss.item()))\n",
        "    return model"
      ],
      "metadata": {
        "colab": {
          "base_uri": "https://localhost:8080/"
        },
        "id": "wIq1CMDj5Yv6",
        "outputId": "254c56dc-d751-4b00-83f3-40b47f973045"
      },
      "execution_count": null,
      "outputs": [
        {
          "output_type": "stream",
          "name": "stdout",
          "text": [
            "\n",
            "epoch [1/10], loss:0.7594\n",
            "epoch [2/10], loss:0.7417\n",
            "epoch [3/10], loss:0.5048\n",
            "epoch [4/10], loss:0.6801\n",
            "epoch [5/10], loss:0.4803\n",
            "epoch [6/10], loss:0.5912\n",
            "epoch [7/10], loss:0.6755\n",
            "epoch [8/10], loss:0.3603\n",
            "epoch [9/10], loss:0.6777\n",
            "epoch [10/10], loss:0.3352\n",
            "\n"
          ]
        }
      ]
    },
    {
      "cell_type": "code",
      "source": [
        "clf= ExplainableBoostingClassifier()"
      ],
      "metadata": {
        "id": "kM2OZWtG2l0i"
      },
      "execution_count": null,
      "outputs": []
    },
    {
      "cell_type": "code",
      "source": [
        "SN_clf = SN().to(device)"
      ],
      "metadata": {
        "id": "6ZsnDiG62DKP"
      },
      "execution_count": null,
      "outputs": []
    },
    {
      "cell_type": "code",
      "source": [
        "train_SN(clf,trainloader)\n",
        "clf.eval()"
      ],
      "metadata": {
        "id": "ssWhljl4259e"
      },
      "execution_count": null,
      "outputs": []
    },
    {
      "cell_type": "code",
      "source": [
        "output=clf(X_test.to(device))\n",
        "y_pred = torch.max(output.data, 1)[1].cpu().detach().numpy()"
      ],
      "metadata": {
        "id": "PeFUGbiP34FJ"
      },
      "execution_count": null,
      "outputs": []
    },
    {
      "cell_type": "code",
      "source": [
        "print(classification_report(y_pred,y_test))"
      ],
      "metadata": {
        "colab": {
          "base_uri": "https://localhost:8080/"
        },
        "id": "d_3deNWX4Cj1",
        "outputId": "c479767f-306d-4edc-ec0e-f456f4eca88f"
      },
      "execution_count": null,
      "outputs": [
        {
          "output_type": "stream",
          "name": "stdout",
          "text": [
            "\n",
            "              precision    recall  f1-score   support\n",
            "\n",
            "           0       0.00      0.00      0.00         8\n",
            "           1       0.01      0.01      0.00         0\n",
            "           2       0.08      0.23      0.14      3366\n",
            "           3       0.55      0.64      0.54     25192\n",
            "           4       0.12      0.54      0.22      4818\n",
            "           5       0.95      0.67      0.86     51049\n",
            "           6       0.96      0.65      0.74     90769\n",
            "           7       0.02      0.06      0.00       137\n",
            "           8       0.00      0.00      0.00         2\n",
            "           9       0.01      0.01      0.00         0\n",
            "\n",
            "    accuracy                           0.66    175341\n",
            "   macro avg       0.25      0.28      0.24    175341\n",
            "weighted avg       0.87      0.65      0.73    175341\n",
            "\n"
          ]
        }
      ]
    }
  ]
}